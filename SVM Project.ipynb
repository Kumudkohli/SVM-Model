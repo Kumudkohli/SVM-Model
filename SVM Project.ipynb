{
 "cells": [
  {
   "cell_type": "code",
   "execution_count": 59,
   "id": "938b163a-eca9-4d7d-8a99-410583eeda57",
   "metadata": {},
   "outputs": [],
   "source": [
    "import pandas as pd\n",
    "import numpy as np"
   ]
  },
  {
   "cell_type": "code",
   "execution_count": 60,
   "id": "a8e189e6-7604-473d-b24e-e1c2f82bae85",
   "metadata": {},
   "outputs": [],
   "source": [
    "train_df=pd.read_csv(\"train_data.csv\")"
   ]
  },
  {
   "cell_type": "code",
   "execution_count": 61,
   "id": "c5f91169-71ed-4184-9925-6fa0a19489a4",
   "metadata": {},
   "outputs": [
    {
     "data": {
      "text/html": [
       "<div>\n",
       "<style scoped>\n",
       "    .dataframe tbody tr th:only-of-type {\n",
       "        vertical-align: middle;\n",
       "    }\n",
       "\n",
       "    .dataframe tbody tr th {\n",
       "        vertical-align: top;\n",
       "    }\n",
       "\n",
       "    .dataframe thead th {\n",
       "        text-align: right;\n",
       "    }\n",
       "</style>\n",
       "<table border=\"1\" class=\"dataframe\">\n",
       "  <thead>\n",
       "    <tr style=\"text-align: right;\">\n",
       "      <th></th>\n",
       "      <th>JoiningYear</th>\n",
       "      <th>PaymentTier</th>\n",
       "      <th>Age</th>\n",
       "      <th>ExperienceInCurrentDomain</th>\n",
       "      <th>Education_Bachelors</th>\n",
       "      <th>Education_Masters</th>\n",
       "      <th>Education_PHD</th>\n",
       "      <th>City_Bangalore</th>\n",
       "      <th>City_New Delhi</th>\n",
       "      <th>City_Pune</th>\n",
       "      <th>Gender_Male</th>\n",
       "      <th>EverBenched_Yes</th>\n",
       "      <th>Target</th>\n",
       "    </tr>\n",
       "  </thead>\n",
       "  <tbody>\n",
       "    <tr>\n",
       "      <th>0</th>\n",
       "      <td>-0.575074</td>\n",
       "      <td>-3.038616</td>\n",
       "      <td>1.575124</td>\n",
       "      <td>1.345546</td>\n",
       "      <td>1.0</td>\n",
       "      <td>0.0</td>\n",
       "      <td>0.0</td>\n",
       "      <td>1.0</td>\n",
       "      <td>0.0</td>\n",
       "      <td>0.0</td>\n",
       "      <td>1.0</td>\n",
       "      <td>0.0</td>\n",
       "      <td>0</td>\n",
       "    </tr>\n",
       "    <tr>\n",
       "      <th>1</th>\n",
       "      <td>1.039529</td>\n",
       "      <td>0.531374</td>\n",
       "      <td>-1.120521</td>\n",
       "      <td>-0.574255</td>\n",
       "      <td>0.0</td>\n",
       "      <td>1.0</td>\n",
       "      <td>0.0</td>\n",
       "      <td>0.0</td>\n",
       "      <td>0.0</td>\n",
       "      <td>1.0</td>\n",
       "      <td>1.0</td>\n",
       "      <td>0.0</td>\n",
       "      <td>1</td>\n",
       "    </tr>\n",
       "    <tr>\n",
       "      <th>2</th>\n",
       "      <td>1.039529</td>\n",
       "      <td>0.531374</td>\n",
       "      <td>-0.291091</td>\n",
       "      <td>-1.214189</td>\n",
       "      <td>1.0</td>\n",
       "      <td>0.0</td>\n",
       "      <td>0.0</td>\n",
       "      <td>1.0</td>\n",
       "      <td>0.0</td>\n",
       "      <td>0.0</td>\n",
       "      <td>1.0</td>\n",
       "      <td>0.0</td>\n",
       "      <td>0</td>\n",
       "    </tr>\n",
       "    <tr>\n",
       "      <th>3</th>\n",
       "      <td>-0.036873</td>\n",
       "      <td>-1.253621</td>\n",
       "      <td>-0.498449</td>\n",
       "      <td>1.345546</td>\n",
       "      <td>1.0</td>\n",
       "      <td>0.0</td>\n",
       "      <td>0.0</td>\n",
       "      <td>0.0</td>\n",
       "      <td>0.0</td>\n",
       "      <td>1.0</td>\n",
       "      <td>0.0</td>\n",
       "      <td>0.0</td>\n",
       "      <td>1</td>\n",
       "    </tr>\n",
       "    <tr>\n",
       "      <th>4</th>\n",
       "      <td>-0.036873</td>\n",
       "      <td>-3.038616</td>\n",
       "      <td>0.330981</td>\n",
       "      <td>0.065678</td>\n",
       "      <td>1.0</td>\n",
       "      <td>0.0</td>\n",
       "      <td>0.0</td>\n",
       "      <td>0.0</td>\n",
       "      <td>0.0</td>\n",
       "      <td>1.0</td>\n",
       "      <td>0.0</td>\n",
       "      <td>0.0</td>\n",
       "      <td>1</td>\n",
       "    </tr>\n",
       "    <tr>\n",
       "      <th>...</th>\n",
       "      <td>...</td>\n",
       "      <td>...</td>\n",
       "      <td>...</td>\n",
       "      <td>...</td>\n",
       "      <td>...</td>\n",
       "      <td>...</td>\n",
       "      <td>...</td>\n",
       "      <td>...</td>\n",
       "      <td>...</td>\n",
       "      <td>...</td>\n",
       "      <td>...</td>\n",
       "      <td>...</td>\n",
       "      <td>...</td>\n",
       "    </tr>\n",
       "    <tr>\n",
       "      <th>3717</th>\n",
       "      <td>-1.651476</td>\n",
       "      <td>0.531374</td>\n",
       "      <td>-0.291091</td>\n",
       "      <td>-1.214189</td>\n",
       "      <td>1.0</td>\n",
       "      <td>0.0</td>\n",
       "      <td>0.0</td>\n",
       "      <td>0.0</td>\n",
       "      <td>1.0</td>\n",
       "      <td>0.0</td>\n",
       "      <td>1.0</td>\n",
       "      <td>0.0</td>\n",
       "      <td>0</td>\n",
       "    </tr>\n",
       "    <tr>\n",
       "      <th>3718</th>\n",
       "      <td>1.039529</td>\n",
       "      <td>0.531374</td>\n",
       "      <td>1.367767</td>\n",
       "      <td>0.065678</td>\n",
       "      <td>1.0</td>\n",
       "      <td>0.0</td>\n",
       "      <td>0.0</td>\n",
       "      <td>1.0</td>\n",
       "      <td>0.0</td>\n",
       "      <td>0.0</td>\n",
       "      <td>1.0</td>\n",
       "      <td>0.0</td>\n",
       "      <td>0</td>\n",
       "    </tr>\n",
       "    <tr>\n",
       "      <th>3719</th>\n",
       "      <td>-0.575074</td>\n",
       "      <td>0.531374</td>\n",
       "      <td>0.953053</td>\n",
       "      <td>-0.574255</td>\n",
       "      <td>1.0</td>\n",
       "      <td>0.0</td>\n",
       "      <td>0.0</td>\n",
       "      <td>0.0</td>\n",
       "      <td>0.0</td>\n",
       "      <td>1.0</td>\n",
       "      <td>0.0</td>\n",
       "      <td>0.0</td>\n",
       "      <td>1</td>\n",
       "    </tr>\n",
       "    <tr>\n",
       "      <th>3720</th>\n",
       "      <td>0.501328</td>\n",
       "      <td>0.531374</td>\n",
       "      <td>1.367767</td>\n",
       "      <td>-1.854123</td>\n",
       "      <td>1.0</td>\n",
       "      <td>0.0</td>\n",
       "      <td>0.0</td>\n",
       "      <td>1.0</td>\n",
       "      <td>0.0</td>\n",
       "      <td>0.0</td>\n",
       "      <td>0.0</td>\n",
       "      <td>0.0</td>\n",
       "      <td>0</td>\n",
       "    </tr>\n",
       "    <tr>\n",
       "      <th>3721</th>\n",
       "      <td>0.501328</td>\n",
       "      <td>0.531374</td>\n",
       "      <td>-1.535235</td>\n",
       "      <td>-1.854123</td>\n",
       "      <td>1.0</td>\n",
       "      <td>0.0</td>\n",
       "      <td>0.0</td>\n",
       "      <td>1.0</td>\n",
       "      <td>0.0</td>\n",
       "      <td>0.0</td>\n",
       "      <td>1.0</td>\n",
       "      <td>0.0</td>\n",
       "      <td>0</td>\n",
       "    </tr>\n",
       "  </tbody>\n",
       "</table>\n",
       "<p>3722 rows × 13 columns</p>\n",
       "</div>"
      ],
      "text/plain": [
       "      JoiningYear  PaymentTier       Age  ExperienceInCurrentDomain  \\\n",
       "0       -0.575074    -3.038616  1.575124                   1.345546   \n",
       "1        1.039529     0.531374 -1.120521                  -0.574255   \n",
       "2        1.039529     0.531374 -0.291091                  -1.214189   \n",
       "3       -0.036873    -1.253621 -0.498449                   1.345546   \n",
       "4       -0.036873    -3.038616  0.330981                   0.065678   \n",
       "...           ...          ...       ...                        ...   \n",
       "3717    -1.651476     0.531374 -0.291091                  -1.214189   \n",
       "3718     1.039529     0.531374  1.367767                   0.065678   \n",
       "3719    -0.575074     0.531374  0.953053                  -0.574255   \n",
       "3720     0.501328     0.531374  1.367767                  -1.854123   \n",
       "3721     0.501328     0.531374 -1.535235                  -1.854123   \n",
       "\n",
       "      Education_Bachelors  Education_Masters  Education_PHD  City_Bangalore  \\\n",
       "0                     1.0                0.0            0.0             1.0   \n",
       "1                     0.0                1.0            0.0             0.0   \n",
       "2                     1.0                0.0            0.0             1.0   \n",
       "3                     1.0                0.0            0.0             0.0   \n",
       "4                     1.0                0.0            0.0             0.0   \n",
       "...                   ...                ...            ...             ...   \n",
       "3717                  1.0                0.0            0.0             0.0   \n",
       "3718                  1.0                0.0            0.0             1.0   \n",
       "3719                  1.0                0.0            0.0             0.0   \n",
       "3720                  1.0                0.0            0.0             1.0   \n",
       "3721                  1.0                0.0            0.0             1.0   \n",
       "\n",
       "      City_New Delhi  City_Pune  Gender_Male  EverBenched_Yes  Target  \n",
       "0                0.0        0.0          1.0              0.0       0  \n",
       "1                0.0        1.0          1.0              0.0       1  \n",
       "2                0.0        0.0          1.0              0.0       0  \n",
       "3                0.0        1.0          0.0              0.0       1  \n",
       "4                0.0        1.0          0.0              0.0       1  \n",
       "...              ...        ...          ...              ...     ...  \n",
       "3717             1.0        0.0          1.0              0.0       0  \n",
       "3718             0.0        0.0          1.0              0.0       0  \n",
       "3719             0.0        1.0          0.0              0.0       1  \n",
       "3720             0.0        0.0          0.0              0.0       0  \n",
       "3721             0.0        0.0          1.0              0.0       0  \n",
       "\n",
       "[3722 rows x 13 columns]"
      ]
     },
     "execution_count": 61,
     "metadata": {},
     "output_type": "execute_result"
    }
   ],
   "source": [
    "train_df"
   ]
  },
  {
   "cell_type": "code",
   "execution_count": 62,
   "id": "d81a9f8f-64a9-45b8-b10e-8aac283ffa19",
   "metadata": {},
   "outputs": [
    {
     "data": {
      "text/plain": [
       "Index(['JoiningYear', 'PaymentTier', 'Age', 'ExperienceInCurrentDomain',\n",
       "       'Education_Bachelors', 'Education_Masters', 'Education_PHD',\n",
       "       'City_Bangalore', 'City_New Delhi', 'City_Pune', 'Gender_Male',\n",
       "       'EverBenched_Yes', 'Target'],\n",
       "      dtype='object')"
      ]
     },
     "execution_count": 62,
     "metadata": {},
     "output_type": "execute_result"
    }
   ],
   "source": [
    "train_df.columns\n"
   ]
  },
  {
   "cell_type": "code",
   "execution_count": 63,
   "id": "cf357f90-765f-48ad-bace-dc9e755a4fc8",
   "metadata": {},
   "outputs": [
    {
     "data": {
      "text/html": [
       "<div>\n",
       "<style scoped>\n",
       "    .dataframe tbody tr th:only-of-type {\n",
       "        vertical-align: middle;\n",
       "    }\n",
       "\n",
       "    .dataframe tbody tr th {\n",
       "        vertical-align: top;\n",
       "    }\n",
       "\n",
       "    .dataframe thead th {\n",
       "        text-align: right;\n",
       "    }\n",
       "</style>\n",
       "<table border=\"1\" class=\"dataframe\">\n",
       "  <thead>\n",
       "    <tr style=\"text-align: right;\">\n",
       "      <th></th>\n",
       "      <th>JoiningYear</th>\n",
       "      <th>PaymentTier</th>\n",
       "      <th>Age</th>\n",
       "      <th>ExperienceInCurrentDomain</th>\n",
       "      <th>Education_Bachelors</th>\n",
       "      <th>Education_Masters</th>\n",
       "      <th>Education_PHD</th>\n",
       "      <th>City_Bangalore</th>\n",
       "      <th>City_New Delhi</th>\n",
       "      <th>City_Pune</th>\n",
       "      <th>Gender_Male</th>\n",
       "      <th>EverBenched_Yes</th>\n",
       "    </tr>\n",
       "  </thead>\n",
       "  <tbody>\n",
       "    <tr>\n",
       "      <th>0</th>\n",
       "      <td>-0.575074</td>\n",
       "      <td>-3.038616</td>\n",
       "      <td>1.575124</td>\n",
       "      <td>1.345546</td>\n",
       "      <td>1.0</td>\n",
       "      <td>0.0</td>\n",
       "      <td>0.0</td>\n",
       "      <td>1.0</td>\n",
       "      <td>0.0</td>\n",
       "      <td>0.0</td>\n",
       "      <td>1.0</td>\n",
       "      <td>0.0</td>\n",
       "    </tr>\n",
       "    <tr>\n",
       "      <th>1</th>\n",
       "      <td>1.039529</td>\n",
       "      <td>0.531374</td>\n",
       "      <td>-1.120521</td>\n",
       "      <td>-0.574255</td>\n",
       "      <td>0.0</td>\n",
       "      <td>1.0</td>\n",
       "      <td>0.0</td>\n",
       "      <td>0.0</td>\n",
       "      <td>0.0</td>\n",
       "      <td>1.0</td>\n",
       "      <td>1.0</td>\n",
       "      <td>0.0</td>\n",
       "    </tr>\n",
       "    <tr>\n",
       "      <th>2</th>\n",
       "      <td>1.039529</td>\n",
       "      <td>0.531374</td>\n",
       "      <td>-0.291091</td>\n",
       "      <td>-1.214189</td>\n",
       "      <td>1.0</td>\n",
       "      <td>0.0</td>\n",
       "      <td>0.0</td>\n",
       "      <td>1.0</td>\n",
       "      <td>0.0</td>\n",
       "      <td>0.0</td>\n",
       "      <td>1.0</td>\n",
       "      <td>0.0</td>\n",
       "    </tr>\n",
       "    <tr>\n",
       "      <th>3</th>\n",
       "      <td>-0.036873</td>\n",
       "      <td>-1.253621</td>\n",
       "      <td>-0.498449</td>\n",
       "      <td>1.345546</td>\n",
       "      <td>1.0</td>\n",
       "      <td>0.0</td>\n",
       "      <td>0.0</td>\n",
       "      <td>0.0</td>\n",
       "      <td>0.0</td>\n",
       "      <td>1.0</td>\n",
       "      <td>0.0</td>\n",
       "      <td>0.0</td>\n",
       "    </tr>\n",
       "    <tr>\n",
       "      <th>4</th>\n",
       "      <td>-0.036873</td>\n",
       "      <td>-3.038616</td>\n",
       "      <td>0.330981</td>\n",
       "      <td>0.065678</td>\n",
       "      <td>1.0</td>\n",
       "      <td>0.0</td>\n",
       "      <td>0.0</td>\n",
       "      <td>0.0</td>\n",
       "      <td>0.0</td>\n",
       "      <td>1.0</td>\n",
       "      <td>0.0</td>\n",
       "      <td>0.0</td>\n",
       "    </tr>\n",
       "    <tr>\n",
       "      <th>...</th>\n",
       "      <td>...</td>\n",
       "      <td>...</td>\n",
       "      <td>...</td>\n",
       "      <td>...</td>\n",
       "      <td>...</td>\n",
       "      <td>...</td>\n",
       "      <td>...</td>\n",
       "      <td>...</td>\n",
       "      <td>...</td>\n",
       "      <td>...</td>\n",
       "      <td>...</td>\n",
       "      <td>...</td>\n",
       "    </tr>\n",
       "    <tr>\n",
       "      <th>3717</th>\n",
       "      <td>-1.651476</td>\n",
       "      <td>0.531374</td>\n",
       "      <td>-0.291091</td>\n",
       "      <td>-1.214189</td>\n",
       "      <td>1.0</td>\n",
       "      <td>0.0</td>\n",
       "      <td>0.0</td>\n",
       "      <td>0.0</td>\n",
       "      <td>1.0</td>\n",
       "      <td>0.0</td>\n",
       "      <td>1.0</td>\n",
       "      <td>0.0</td>\n",
       "    </tr>\n",
       "    <tr>\n",
       "      <th>3718</th>\n",
       "      <td>1.039529</td>\n",
       "      <td>0.531374</td>\n",
       "      <td>1.367767</td>\n",
       "      <td>0.065678</td>\n",
       "      <td>1.0</td>\n",
       "      <td>0.0</td>\n",
       "      <td>0.0</td>\n",
       "      <td>1.0</td>\n",
       "      <td>0.0</td>\n",
       "      <td>0.0</td>\n",
       "      <td>1.0</td>\n",
       "      <td>0.0</td>\n",
       "    </tr>\n",
       "    <tr>\n",
       "      <th>3719</th>\n",
       "      <td>-0.575074</td>\n",
       "      <td>0.531374</td>\n",
       "      <td>0.953053</td>\n",
       "      <td>-0.574255</td>\n",
       "      <td>1.0</td>\n",
       "      <td>0.0</td>\n",
       "      <td>0.0</td>\n",
       "      <td>0.0</td>\n",
       "      <td>0.0</td>\n",
       "      <td>1.0</td>\n",
       "      <td>0.0</td>\n",
       "      <td>0.0</td>\n",
       "    </tr>\n",
       "    <tr>\n",
       "      <th>3720</th>\n",
       "      <td>0.501328</td>\n",
       "      <td>0.531374</td>\n",
       "      <td>1.367767</td>\n",
       "      <td>-1.854123</td>\n",
       "      <td>1.0</td>\n",
       "      <td>0.0</td>\n",
       "      <td>0.0</td>\n",
       "      <td>1.0</td>\n",
       "      <td>0.0</td>\n",
       "      <td>0.0</td>\n",
       "      <td>0.0</td>\n",
       "      <td>0.0</td>\n",
       "    </tr>\n",
       "    <tr>\n",
       "      <th>3721</th>\n",
       "      <td>0.501328</td>\n",
       "      <td>0.531374</td>\n",
       "      <td>-1.535235</td>\n",
       "      <td>-1.854123</td>\n",
       "      <td>1.0</td>\n",
       "      <td>0.0</td>\n",
       "      <td>0.0</td>\n",
       "      <td>1.0</td>\n",
       "      <td>0.0</td>\n",
       "      <td>0.0</td>\n",
       "      <td>1.0</td>\n",
       "      <td>0.0</td>\n",
       "    </tr>\n",
       "  </tbody>\n",
       "</table>\n",
       "<p>3722 rows × 12 columns</p>\n",
       "</div>"
      ],
      "text/plain": [
       "      JoiningYear  PaymentTier       Age  ExperienceInCurrentDomain  \\\n",
       "0       -0.575074    -3.038616  1.575124                   1.345546   \n",
       "1        1.039529     0.531374 -1.120521                  -0.574255   \n",
       "2        1.039529     0.531374 -0.291091                  -1.214189   \n",
       "3       -0.036873    -1.253621 -0.498449                   1.345546   \n",
       "4       -0.036873    -3.038616  0.330981                   0.065678   \n",
       "...           ...          ...       ...                        ...   \n",
       "3717    -1.651476     0.531374 -0.291091                  -1.214189   \n",
       "3718     1.039529     0.531374  1.367767                   0.065678   \n",
       "3719    -0.575074     0.531374  0.953053                  -0.574255   \n",
       "3720     0.501328     0.531374  1.367767                  -1.854123   \n",
       "3721     0.501328     0.531374 -1.535235                  -1.854123   \n",
       "\n",
       "      Education_Bachelors  Education_Masters  Education_PHD  City_Bangalore  \\\n",
       "0                     1.0                0.0            0.0             1.0   \n",
       "1                     0.0                1.0            0.0             0.0   \n",
       "2                     1.0                0.0            0.0             1.0   \n",
       "3                     1.0                0.0            0.0             0.0   \n",
       "4                     1.0                0.0            0.0             0.0   \n",
       "...                   ...                ...            ...             ...   \n",
       "3717                  1.0                0.0            0.0             0.0   \n",
       "3718                  1.0                0.0            0.0             1.0   \n",
       "3719                  1.0                0.0            0.0             0.0   \n",
       "3720                  1.0                0.0            0.0             1.0   \n",
       "3721                  1.0                0.0            0.0             1.0   \n",
       "\n",
       "      City_New Delhi  City_Pune  Gender_Male  EverBenched_Yes  \n",
       "0                0.0        0.0          1.0              0.0  \n",
       "1                0.0        1.0          1.0              0.0  \n",
       "2                0.0        0.0          1.0              0.0  \n",
       "3                0.0        1.0          0.0              0.0  \n",
       "4                0.0        1.0          0.0              0.0  \n",
       "...              ...        ...          ...              ...  \n",
       "3717             1.0        0.0          1.0              0.0  \n",
       "3718             0.0        0.0          1.0              0.0  \n",
       "3719             0.0        1.0          0.0              0.0  \n",
       "3720             0.0        0.0          0.0              0.0  \n",
       "3721             0.0        0.0          1.0              0.0  \n",
       "\n",
       "[3722 rows x 12 columns]"
      ]
     },
     "execution_count": 63,
     "metadata": {},
     "output_type": "execute_result"
    }
   ],
   "source": [
    "X_train = train_df.drop('Target',axis=1)\n",
    "X_train"
   ]
  },
  {
   "cell_type": "code",
   "execution_count": 64,
   "id": "bf0e2608-ec04-404d-a0eb-14e5bd522884",
   "metadata": {},
   "outputs": [
    {
     "data": {
      "text/plain": [
       "0       0\n",
       "1       1\n",
       "2       0\n",
       "3       1\n",
       "4       1\n",
       "       ..\n",
       "3717    0\n",
       "3718    0\n",
       "3719    1\n",
       "3720    0\n",
       "3721    0\n",
       "Name: Target, Length: 3722, dtype: int64"
      ]
     },
     "execution_count": 64,
     "metadata": {},
     "output_type": "execute_result"
    }
   ],
   "source": [
    "y_train = train_df['Target']\n",
    "y_train"
   ]
  },
  {
   "cell_type": "code",
   "execution_count": 65,
   "id": "242192e0-1b5f-4a44-a377-407dae54a35f",
   "metadata": {},
   "outputs": [
    {
     "data": {
      "text/html": [
       "<div>\n",
       "<style scoped>\n",
       "    .dataframe tbody tr th:only-of-type {\n",
       "        vertical-align: middle;\n",
       "    }\n",
       "\n",
       "    .dataframe tbody tr th {\n",
       "        vertical-align: top;\n",
       "    }\n",
       "\n",
       "    .dataframe thead th {\n",
       "        text-align: right;\n",
       "    }\n",
       "</style>\n",
       "<table border=\"1\" class=\"dataframe\">\n",
       "  <thead>\n",
       "    <tr style=\"text-align: right;\">\n",
       "      <th></th>\n",
       "      <th>JoiningYear</th>\n",
       "      <th>PaymentTier</th>\n",
       "      <th>Age</th>\n",
       "      <th>ExperienceInCurrentDomain</th>\n",
       "      <th>Education_Bachelors</th>\n",
       "      <th>Education_Masters</th>\n",
       "      <th>Education_PHD</th>\n",
       "      <th>City_Bangalore</th>\n",
       "      <th>City_New Delhi</th>\n",
       "      <th>City_Pune</th>\n",
       "      <th>Gender_Male</th>\n",
       "      <th>EverBenched_Yes</th>\n",
       "      <th>Target</th>\n",
       "    </tr>\n",
       "  </thead>\n",
       "  <tbody>\n",
       "    <tr>\n",
       "      <th>0</th>\n",
       "      <td>0.501328</td>\n",
       "      <td>0.531374</td>\n",
       "      <td>1.160410</td>\n",
       "      <td>0.065678</td>\n",
       "      <td>1.0</td>\n",
       "      <td>0.0</td>\n",
       "      <td>0.0</td>\n",
       "      <td>1.0</td>\n",
       "      <td>0.0</td>\n",
       "      <td>0.0</td>\n",
       "      <td>1.0</td>\n",
       "      <td>0.0</td>\n",
       "      <td>0</td>\n",
       "    </tr>\n",
       "    <tr>\n",
       "      <th>1</th>\n",
       "      <td>-0.575074</td>\n",
       "      <td>-3.038616</td>\n",
       "      <td>0.953053</td>\n",
       "      <td>1.345546</td>\n",
       "      <td>1.0</td>\n",
       "      <td>0.0</td>\n",
       "      <td>0.0</td>\n",
       "      <td>1.0</td>\n",
       "      <td>0.0</td>\n",
       "      <td>0.0</td>\n",
       "      <td>0.0</td>\n",
       "      <td>0.0</td>\n",
       "      <td>0</td>\n",
       "    </tr>\n",
       "    <tr>\n",
       "      <th>2</th>\n",
       "      <td>1.039529</td>\n",
       "      <td>-1.253621</td>\n",
       "      <td>-0.705806</td>\n",
       "      <td>0.705612</td>\n",
       "      <td>0.0</td>\n",
       "      <td>1.0</td>\n",
       "      <td>0.0</td>\n",
       "      <td>0.0</td>\n",
       "      <td>1.0</td>\n",
       "      <td>0.0</td>\n",
       "      <td>0.0</td>\n",
       "      <td>0.0</td>\n",
       "      <td>0</td>\n",
       "    </tr>\n",
       "    <tr>\n",
       "      <th>3</th>\n",
       "      <td>-0.575074</td>\n",
       "      <td>-1.253621</td>\n",
       "      <td>-0.498449</td>\n",
       "      <td>1.345546</td>\n",
       "      <td>1.0</td>\n",
       "      <td>0.0</td>\n",
       "      <td>0.0</td>\n",
       "      <td>0.0</td>\n",
       "      <td>0.0</td>\n",
       "      <td>1.0</td>\n",
       "      <td>0.0</td>\n",
       "      <td>0.0</td>\n",
       "      <td>1</td>\n",
       "    </tr>\n",
       "    <tr>\n",
       "      <th>4</th>\n",
       "      <td>0.501328</td>\n",
       "      <td>0.531374</td>\n",
       "      <td>0.538338</td>\n",
       "      <td>-1.214189</td>\n",
       "      <td>1.0</td>\n",
       "      <td>0.0</td>\n",
       "      <td>0.0</td>\n",
       "      <td>1.0</td>\n",
       "      <td>0.0</td>\n",
       "      <td>0.0</td>\n",
       "      <td>1.0</td>\n",
       "      <td>0.0</td>\n",
       "      <td>0</td>\n",
       "    </tr>\n",
       "    <tr>\n",
       "      <th>...</th>\n",
       "      <td>...</td>\n",
       "      <td>...</td>\n",
       "      <td>...</td>\n",
       "      <td>...</td>\n",
       "      <td>...</td>\n",
       "      <td>...</td>\n",
       "      <td>...</td>\n",
       "      <td>...</td>\n",
       "      <td>...</td>\n",
       "      <td>...</td>\n",
       "      <td>...</td>\n",
       "      <td>...</td>\n",
       "      <td>...</td>\n",
       "    </tr>\n",
       "    <tr>\n",
       "      <th>926</th>\n",
       "      <td>-0.575074</td>\n",
       "      <td>0.531374</td>\n",
       "      <td>-0.913163</td>\n",
       "      <td>0.065678</td>\n",
       "      <td>1.0</td>\n",
       "      <td>0.0</td>\n",
       "      <td>0.0</td>\n",
       "      <td>1.0</td>\n",
       "      <td>0.0</td>\n",
       "      <td>0.0</td>\n",
       "      <td>1.0</td>\n",
       "      <td>0.0</td>\n",
       "      <td>0</td>\n",
       "    </tr>\n",
       "    <tr>\n",
       "      <th>927</th>\n",
       "      <td>1.039529</td>\n",
       "      <td>0.531374</td>\n",
       "      <td>-0.913163</td>\n",
       "      <td>0.065678</td>\n",
       "      <td>1.0</td>\n",
       "      <td>0.0</td>\n",
       "      <td>0.0</td>\n",
       "      <td>0.0</td>\n",
       "      <td>1.0</td>\n",
       "      <td>0.0</td>\n",
       "      <td>0.0</td>\n",
       "      <td>0.0</td>\n",
       "      <td>0</td>\n",
       "    </tr>\n",
       "    <tr>\n",
       "      <th>928</th>\n",
       "      <td>-0.036873</td>\n",
       "      <td>0.531374</td>\n",
       "      <td>-0.291091</td>\n",
       "      <td>1.345546</td>\n",
       "      <td>1.0</td>\n",
       "      <td>0.0</td>\n",
       "      <td>0.0</td>\n",
       "      <td>0.0</td>\n",
       "      <td>0.0</td>\n",
       "      <td>1.0</td>\n",
       "      <td>1.0</td>\n",
       "      <td>0.0</td>\n",
       "      <td>0</td>\n",
       "    </tr>\n",
       "    <tr>\n",
       "      <th>929</th>\n",
       "      <td>-0.036873</td>\n",
       "      <td>0.531374</td>\n",
       "      <td>-0.913163</td>\n",
       "      <td>0.065678</td>\n",
       "      <td>1.0</td>\n",
       "      <td>0.0</td>\n",
       "      <td>0.0</td>\n",
       "      <td>1.0</td>\n",
       "      <td>0.0</td>\n",
       "      <td>0.0</td>\n",
       "      <td>1.0</td>\n",
       "      <td>0.0</td>\n",
       "      <td>0</td>\n",
       "    </tr>\n",
       "    <tr>\n",
       "      <th>930</th>\n",
       "      <td>-0.036873</td>\n",
       "      <td>0.531374</td>\n",
       "      <td>-0.291091</td>\n",
       "      <td>-0.574255</td>\n",
       "      <td>0.0</td>\n",
       "      <td>0.0</td>\n",
       "      <td>1.0</td>\n",
       "      <td>0.0</td>\n",
       "      <td>1.0</td>\n",
       "      <td>0.0</td>\n",
       "      <td>1.0</td>\n",
       "      <td>0.0</td>\n",
       "      <td>0</td>\n",
       "    </tr>\n",
       "  </tbody>\n",
       "</table>\n",
       "<p>931 rows × 13 columns</p>\n",
       "</div>"
      ],
      "text/plain": [
       "     JoiningYear  PaymentTier       Age  ExperienceInCurrentDomain  \\\n",
       "0       0.501328     0.531374  1.160410                   0.065678   \n",
       "1      -0.575074    -3.038616  0.953053                   1.345546   \n",
       "2       1.039529    -1.253621 -0.705806                   0.705612   \n",
       "3      -0.575074    -1.253621 -0.498449                   1.345546   \n",
       "4       0.501328     0.531374  0.538338                  -1.214189   \n",
       "..           ...          ...       ...                        ...   \n",
       "926    -0.575074     0.531374 -0.913163                   0.065678   \n",
       "927     1.039529     0.531374 -0.913163                   0.065678   \n",
       "928    -0.036873     0.531374 -0.291091                   1.345546   \n",
       "929    -0.036873     0.531374 -0.913163                   0.065678   \n",
       "930    -0.036873     0.531374 -0.291091                  -0.574255   \n",
       "\n",
       "     Education_Bachelors  Education_Masters  Education_PHD  City_Bangalore  \\\n",
       "0                    1.0                0.0            0.0             1.0   \n",
       "1                    1.0                0.0            0.0             1.0   \n",
       "2                    0.0                1.0            0.0             0.0   \n",
       "3                    1.0                0.0            0.0             0.0   \n",
       "4                    1.0                0.0            0.0             1.0   \n",
       "..                   ...                ...            ...             ...   \n",
       "926                  1.0                0.0            0.0             1.0   \n",
       "927                  1.0                0.0            0.0             0.0   \n",
       "928                  1.0                0.0            0.0             0.0   \n",
       "929                  1.0                0.0            0.0             1.0   \n",
       "930                  0.0                0.0            1.0             0.0   \n",
       "\n",
       "     City_New Delhi  City_Pune  Gender_Male  EverBenched_Yes  Target  \n",
       "0               0.0        0.0          1.0              0.0       0  \n",
       "1               0.0        0.0          0.0              0.0       0  \n",
       "2               1.0        0.0          0.0              0.0       0  \n",
       "3               0.0        1.0          0.0              0.0       1  \n",
       "4               0.0        0.0          1.0              0.0       0  \n",
       "..              ...        ...          ...              ...     ...  \n",
       "926             0.0        0.0          1.0              0.0       0  \n",
       "927             1.0        0.0          0.0              0.0       0  \n",
       "928             0.0        1.0          1.0              0.0       0  \n",
       "929             0.0        0.0          1.0              0.0       0  \n",
       "930             1.0        0.0          1.0              0.0       0  \n",
       "\n",
       "[931 rows x 13 columns]"
      ]
     },
     "execution_count": 65,
     "metadata": {},
     "output_type": "execute_result"
    }
   ],
   "source": [
    "test_df = pd.read_csv(\"test_data.csv\")\n",
    "test_df"
   ]
  },
  {
   "cell_type": "code",
   "execution_count": 66,
   "id": "ccec218a-4f4e-4129-9cbe-ac1af5130869",
   "metadata": {},
   "outputs": [
    {
     "data": {
      "text/html": [
       "<div>\n",
       "<style scoped>\n",
       "    .dataframe tbody tr th:only-of-type {\n",
       "        vertical-align: middle;\n",
       "    }\n",
       "\n",
       "    .dataframe tbody tr th {\n",
       "        vertical-align: top;\n",
       "    }\n",
       "\n",
       "    .dataframe thead th {\n",
       "        text-align: right;\n",
       "    }\n",
       "</style>\n",
       "<table border=\"1\" class=\"dataframe\">\n",
       "  <thead>\n",
       "    <tr style=\"text-align: right;\">\n",
       "      <th></th>\n",
       "      <th>JoiningYear</th>\n",
       "      <th>PaymentTier</th>\n",
       "      <th>Age</th>\n",
       "      <th>ExperienceInCurrentDomain</th>\n",
       "      <th>Education_Bachelors</th>\n",
       "      <th>Education_Masters</th>\n",
       "      <th>Education_PHD</th>\n",
       "      <th>City_Bangalore</th>\n",
       "      <th>City_New Delhi</th>\n",
       "      <th>City_Pune</th>\n",
       "      <th>Gender_Male</th>\n",
       "      <th>EverBenched_Yes</th>\n",
       "    </tr>\n",
       "  </thead>\n",
       "  <tbody>\n",
       "    <tr>\n",
       "      <th>0</th>\n",
       "      <td>0.501328</td>\n",
       "      <td>0.531374</td>\n",
       "      <td>1.160410</td>\n",
       "      <td>0.065678</td>\n",
       "      <td>1.0</td>\n",
       "      <td>0.0</td>\n",
       "      <td>0.0</td>\n",
       "      <td>1.0</td>\n",
       "      <td>0.0</td>\n",
       "      <td>0.0</td>\n",
       "      <td>1.0</td>\n",
       "      <td>0.0</td>\n",
       "    </tr>\n",
       "    <tr>\n",
       "      <th>1</th>\n",
       "      <td>-0.575074</td>\n",
       "      <td>-3.038616</td>\n",
       "      <td>0.953053</td>\n",
       "      <td>1.345546</td>\n",
       "      <td>1.0</td>\n",
       "      <td>0.0</td>\n",
       "      <td>0.0</td>\n",
       "      <td>1.0</td>\n",
       "      <td>0.0</td>\n",
       "      <td>0.0</td>\n",
       "      <td>0.0</td>\n",
       "      <td>0.0</td>\n",
       "    </tr>\n",
       "    <tr>\n",
       "      <th>2</th>\n",
       "      <td>1.039529</td>\n",
       "      <td>-1.253621</td>\n",
       "      <td>-0.705806</td>\n",
       "      <td>0.705612</td>\n",
       "      <td>0.0</td>\n",
       "      <td>1.0</td>\n",
       "      <td>0.0</td>\n",
       "      <td>0.0</td>\n",
       "      <td>1.0</td>\n",
       "      <td>0.0</td>\n",
       "      <td>0.0</td>\n",
       "      <td>0.0</td>\n",
       "    </tr>\n",
       "    <tr>\n",
       "      <th>3</th>\n",
       "      <td>-0.575074</td>\n",
       "      <td>-1.253621</td>\n",
       "      <td>-0.498449</td>\n",
       "      <td>1.345546</td>\n",
       "      <td>1.0</td>\n",
       "      <td>0.0</td>\n",
       "      <td>0.0</td>\n",
       "      <td>0.0</td>\n",
       "      <td>0.0</td>\n",
       "      <td>1.0</td>\n",
       "      <td>0.0</td>\n",
       "      <td>0.0</td>\n",
       "    </tr>\n",
       "    <tr>\n",
       "      <th>4</th>\n",
       "      <td>0.501328</td>\n",
       "      <td>0.531374</td>\n",
       "      <td>0.538338</td>\n",
       "      <td>-1.214189</td>\n",
       "      <td>1.0</td>\n",
       "      <td>0.0</td>\n",
       "      <td>0.0</td>\n",
       "      <td>1.0</td>\n",
       "      <td>0.0</td>\n",
       "      <td>0.0</td>\n",
       "      <td>1.0</td>\n",
       "      <td>0.0</td>\n",
       "    </tr>\n",
       "    <tr>\n",
       "      <th>...</th>\n",
       "      <td>...</td>\n",
       "      <td>...</td>\n",
       "      <td>...</td>\n",
       "      <td>...</td>\n",
       "      <td>...</td>\n",
       "      <td>...</td>\n",
       "      <td>...</td>\n",
       "      <td>...</td>\n",
       "      <td>...</td>\n",
       "      <td>...</td>\n",
       "      <td>...</td>\n",
       "      <td>...</td>\n",
       "    </tr>\n",
       "    <tr>\n",
       "      <th>926</th>\n",
       "      <td>-0.575074</td>\n",
       "      <td>0.531374</td>\n",
       "      <td>-0.913163</td>\n",
       "      <td>0.065678</td>\n",
       "      <td>1.0</td>\n",
       "      <td>0.0</td>\n",
       "      <td>0.0</td>\n",
       "      <td>1.0</td>\n",
       "      <td>0.0</td>\n",
       "      <td>0.0</td>\n",
       "      <td>1.0</td>\n",
       "      <td>0.0</td>\n",
       "    </tr>\n",
       "    <tr>\n",
       "      <th>927</th>\n",
       "      <td>1.039529</td>\n",
       "      <td>0.531374</td>\n",
       "      <td>-0.913163</td>\n",
       "      <td>0.065678</td>\n",
       "      <td>1.0</td>\n",
       "      <td>0.0</td>\n",
       "      <td>0.0</td>\n",
       "      <td>0.0</td>\n",
       "      <td>1.0</td>\n",
       "      <td>0.0</td>\n",
       "      <td>0.0</td>\n",
       "      <td>0.0</td>\n",
       "    </tr>\n",
       "    <tr>\n",
       "      <th>928</th>\n",
       "      <td>-0.036873</td>\n",
       "      <td>0.531374</td>\n",
       "      <td>-0.291091</td>\n",
       "      <td>1.345546</td>\n",
       "      <td>1.0</td>\n",
       "      <td>0.0</td>\n",
       "      <td>0.0</td>\n",
       "      <td>0.0</td>\n",
       "      <td>0.0</td>\n",
       "      <td>1.0</td>\n",
       "      <td>1.0</td>\n",
       "      <td>0.0</td>\n",
       "    </tr>\n",
       "    <tr>\n",
       "      <th>929</th>\n",
       "      <td>-0.036873</td>\n",
       "      <td>0.531374</td>\n",
       "      <td>-0.913163</td>\n",
       "      <td>0.065678</td>\n",
       "      <td>1.0</td>\n",
       "      <td>0.0</td>\n",
       "      <td>0.0</td>\n",
       "      <td>1.0</td>\n",
       "      <td>0.0</td>\n",
       "      <td>0.0</td>\n",
       "      <td>1.0</td>\n",
       "      <td>0.0</td>\n",
       "    </tr>\n",
       "    <tr>\n",
       "      <th>930</th>\n",
       "      <td>-0.036873</td>\n",
       "      <td>0.531374</td>\n",
       "      <td>-0.291091</td>\n",
       "      <td>-0.574255</td>\n",
       "      <td>0.0</td>\n",
       "      <td>0.0</td>\n",
       "      <td>1.0</td>\n",
       "      <td>0.0</td>\n",
       "      <td>1.0</td>\n",
       "      <td>0.0</td>\n",
       "      <td>1.0</td>\n",
       "      <td>0.0</td>\n",
       "    </tr>\n",
       "  </tbody>\n",
       "</table>\n",
       "<p>931 rows × 12 columns</p>\n",
       "</div>"
      ],
      "text/plain": [
       "     JoiningYear  PaymentTier       Age  ExperienceInCurrentDomain  \\\n",
       "0       0.501328     0.531374  1.160410                   0.065678   \n",
       "1      -0.575074    -3.038616  0.953053                   1.345546   \n",
       "2       1.039529    -1.253621 -0.705806                   0.705612   \n",
       "3      -0.575074    -1.253621 -0.498449                   1.345546   \n",
       "4       0.501328     0.531374  0.538338                  -1.214189   \n",
       "..           ...          ...       ...                        ...   \n",
       "926    -0.575074     0.531374 -0.913163                   0.065678   \n",
       "927     1.039529     0.531374 -0.913163                   0.065678   \n",
       "928    -0.036873     0.531374 -0.291091                   1.345546   \n",
       "929    -0.036873     0.531374 -0.913163                   0.065678   \n",
       "930    -0.036873     0.531374 -0.291091                  -0.574255   \n",
       "\n",
       "     Education_Bachelors  Education_Masters  Education_PHD  City_Bangalore  \\\n",
       "0                    1.0                0.0            0.0             1.0   \n",
       "1                    1.0                0.0            0.0             1.0   \n",
       "2                    0.0                1.0            0.0             0.0   \n",
       "3                    1.0                0.0            0.0             0.0   \n",
       "4                    1.0                0.0            0.0             1.0   \n",
       "..                   ...                ...            ...             ...   \n",
       "926                  1.0                0.0            0.0             1.0   \n",
       "927                  1.0                0.0            0.0             0.0   \n",
       "928                  1.0                0.0            0.0             0.0   \n",
       "929                  1.0                0.0            0.0             1.0   \n",
       "930                  0.0                0.0            1.0             0.0   \n",
       "\n",
       "     City_New Delhi  City_Pune  Gender_Male  EverBenched_Yes  \n",
       "0               0.0        0.0          1.0              0.0  \n",
       "1               0.0        0.0          0.0              0.0  \n",
       "2               1.0        0.0          0.0              0.0  \n",
       "3               0.0        1.0          0.0              0.0  \n",
       "4               0.0        0.0          1.0              0.0  \n",
       "..              ...        ...          ...              ...  \n",
       "926             0.0        0.0          1.0              0.0  \n",
       "927             1.0        0.0          0.0              0.0  \n",
       "928             0.0        1.0          1.0              0.0  \n",
       "929             0.0        0.0          1.0              0.0  \n",
       "930             1.0        0.0          1.0              0.0  \n",
       "\n",
       "[931 rows x 12 columns]"
      ]
     },
     "execution_count": 66,
     "metadata": {},
     "output_type": "execute_result"
    }
   ],
   "source": [
    "X_test=test_df.drop('Target',axis=1)\n",
    "X_test"
   ]
  },
  {
   "cell_type": "code",
   "execution_count": 67,
   "id": "dd4cce83-28e7-4152-b26e-02a2c7c99c6f",
   "metadata": {},
   "outputs": [
    {
     "data": {
      "text/plain": [
       "0      0\n",
       "1      0\n",
       "2      0\n",
       "3      1\n",
       "4      0\n",
       "      ..\n",
       "926    0\n",
       "927    0\n",
       "928    0\n",
       "929    0\n",
       "930    0\n",
       "Name: Target, Length: 931, dtype: int64"
      ]
     },
     "execution_count": 67,
     "metadata": {},
     "output_type": "execute_result"
    }
   ],
   "source": [
    "y_test= test_df['Target']\n",
    "y_test"
   ]
  },
  {
   "cell_type": "markdown",
   "id": "60b09707-a117-42fa-8798-75497c897537",
   "metadata": {},
   "source": [
    "# Creating a baseline SVM "
   ]
  },
  {
   "cell_type": "code",
   "execution_count": 68,
   "id": "1cde5edf-78a7-478f-8f7d-8ee9f5410962",
   "metadata": {},
   "outputs": [],
   "source": [
    "from sklearn.svm import SVC"
   ]
  },
  {
   "cell_type": "code",
   "execution_count": 69,
   "id": "caec4bfc-cc01-45b7-bf2a-e581f0f26396",
   "metadata": {},
   "outputs": [
    {
     "data": {
      "text/plain": [
       "array([0, 0, 1, 1, 0, 0, 0, 0, 0, 1, 1, 0, 0, 0, 1, 1, 1, 0, 1, 1, 1, 0,\n",
       "       0, 1, 0, 0, 0, 0, 0, 0, 0, 0, 0, 0, 1, 1, 0, 0, 0, 0, 0, 0, 0, 1,\n",
       "       0, 0, 0, 1, 0, 1, 0, 0, 0, 0, 0, 0, 0, 0, 0, 0, 1, 0, 0, 0, 1, 0,\n",
       "       0, 1, 0, 1, 0, 1, 0, 1, 0, 1, 0, 0, 0, 1, 0, 0, 1, 0, 1, 0, 1, 0,\n",
       "       0, 0, 1, 1, 1, 0, 0, 0, 0, 0, 0, 0, 1, 0, 0, 0, 0, 0, 0, 0, 1, 0,\n",
       "       1, 0, 0, 0, 1, 0, 0, 0, 1, 0, 0, 1, 1, 0, 0, 1, 0, 0, 0, 0, 0, 0,\n",
       "       0, 1, 0, 1, 0, 0, 0, 0, 0, 0, 0, 1, 0, 0, 1, 1, 0, 0, 0, 0, 1, 1,\n",
       "       0, 1, 0, 1, 0, 0, 0, 1, 0, 0, 0, 0, 0, 0, 0, 0, 0, 1, 0, 0, 0, 0,\n",
       "       1, 0, 0, 0, 0, 0, 0, 0, 1, 0, 0, 0, 0, 0, 0, 0, 0, 0, 0, 0, 0, 1,\n",
       "       0, 0, 0, 0, 0, 0, 0, 0, 0, 0, 0, 0, 0, 1, 0, 0, 1, 0, 1, 0, 0, 0,\n",
       "       0, 1, 0, 1, 0, 0, 0, 1, 0, 0, 0, 0, 0, 1, 0, 1, 0, 0, 0, 0, 0, 0,\n",
       "       0, 0, 1, 0, 0, 0, 0, 1, 0, 1, 0, 1, 0, 1, 0, 0, 0, 1, 0, 0, 1, 1,\n",
       "       1, 0, 0, 0, 0, 1, 0, 0, 1, 1, 0, 0, 0, 1, 0, 1, 0, 0, 0, 0, 0, 1,\n",
       "       1, 0, 0, 1, 0, 0, 0, 0, 1, 0, 0, 1, 1, 0, 0, 0, 0, 0, 0, 0, 0, 1,\n",
       "       0, 1, 0, 0, 1, 0, 0, 1, 0, 0, 0, 0, 0, 1, 0, 0, 0, 0, 1, 0, 0, 0,\n",
       "       0, 1, 0, 1, 0, 0, 0, 0, 0, 0, 0, 0, 0, 1, 1, 0, 0, 1, 0, 0, 1, 0,\n",
       "       1, 0, 0, 0, 0, 0, 0, 0, 0, 0, 0, 0, 0, 0, 0, 0, 0, 0, 0, 0, 0, 0,\n",
       "       1, 0, 0, 0, 1, 1, 0, 0, 0, 0, 0, 0, 0, 0, 0, 0, 0, 1, 0, 0, 0, 0,\n",
       "       1, 0, 0, 1, 0, 1, 0, 0, 1, 0, 0, 0, 0, 1, 0, 0, 0, 0, 0, 1, 1, 0,\n",
       "       0, 1, 0, 1, 0, 1, 0, 0, 0, 0, 0, 1, 1, 0, 0, 0, 0, 0, 0, 0, 0, 0,\n",
       "       0, 0, 0, 0, 0, 0, 1, 0, 0, 0, 0, 0, 0, 0, 0, 0, 1, 0, 0, 0, 1, 0,\n",
       "       0, 0, 0, 0, 1, 0, 0, 0, 0, 0, 1, 0, 0, 0, 0, 0, 0, 1, 0, 0, 1, 0,\n",
       "       0, 0, 0, 0, 0, 0, 0, 0, 0, 0, 0, 0, 0, 0, 0, 0, 0, 0, 0, 0, 0, 0,\n",
       "       0, 1, 1, 0, 0, 0, 1, 0, 0, 0, 0, 1, 0, 0, 0, 0, 1, 1, 0, 1, 0, 0,\n",
       "       1, 0, 0, 1, 0, 0, 0, 0, 0, 0, 0, 1, 0, 0, 1, 0, 1, 1, 0, 0, 0, 0,\n",
       "       0, 1, 0, 0, 0, 0, 0, 0, 0, 0, 1, 0, 0, 0, 1, 1, 0, 0, 1, 1, 0, 0,\n",
       "       0, 0, 0, 0, 0, 0, 0, 0, 0, 0, 0, 0, 0, 0, 1, 1, 0, 1, 0, 0, 1, 0,\n",
       "       1, 0, 0, 0, 1, 0, 0, 1, 0, 1, 0, 0, 0, 0, 1, 0, 1, 0, 1, 1, 1, 0,\n",
       "       1, 0, 1, 0, 0, 0, 0, 0, 0, 0, 0, 0, 0, 0, 0, 0, 0, 0, 0, 0, 1, 1,\n",
       "       0, 0, 0, 0, 1, 1, 0, 0, 0, 0, 0, 0, 0, 1, 0, 0, 0, 0, 0, 0, 0, 0,\n",
       "       1, 1, 0, 0, 0, 0, 1, 0, 0, 0, 0, 1, 1, 0, 0, 1, 0, 1, 0, 0, 1, 0,\n",
       "       0, 1, 0, 1, 0, 0, 0, 0, 0, 1, 0, 0, 0, 0, 0, 0, 0, 0, 0, 1, 0, 0,\n",
       "       1, 0, 0, 0, 0, 0, 1, 0, 0, 0, 0, 0, 0, 0, 0, 0, 0, 0, 0, 0, 0, 0,\n",
       "       1, 0, 0, 0, 0, 1, 0, 1, 0, 0, 0, 0, 0, 1, 0, 0, 0, 0, 0, 1, 0, 0,\n",
       "       0, 1, 0, 0, 0, 0, 0, 1, 1, 0, 0, 0, 0, 0, 1, 0, 1, 0, 0, 1, 0, 0,\n",
       "       0, 0, 0, 1, 0, 0, 0, 0, 0, 0, 0, 0, 0, 1, 1, 0, 0, 0, 0, 0, 0, 0,\n",
       "       1, 1, 0, 0, 1, 0, 1, 0, 0, 0, 0, 0, 0, 0, 0, 1, 0, 0, 0, 0, 0, 0,\n",
       "       0, 0, 0, 0, 0, 1, 0, 1, 0, 1, 1, 0, 0, 1, 1, 1, 0, 0, 0, 0, 0, 0,\n",
       "       0, 0, 0, 1, 0, 0, 0, 1, 0, 1, 1, 0, 0, 0, 1, 0, 0, 0, 0, 0, 0, 0,\n",
       "       0, 1, 0, 1, 1, 1, 0, 1, 0, 0, 0, 0, 0, 1, 0, 0, 0, 0, 0, 0, 1, 0,\n",
       "       0, 0, 0, 0, 1, 1, 1, 0, 1, 0, 0, 0, 1, 0, 0, 0, 1, 1, 0, 0, 0, 0,\n",
       "       1, 1, 0, 0, 1, 0, 0, 0, 0, 0, 0, 0, 0, 1, 0, 1, 0, 0, 1, 0, 0, 0,\n",
       "       0, 1, 0, 0, 0, 0, 0])"
      ]
     },
     "execution_count": 69,
     "metadata": {},
     "output_type": "execute_result"
    }
   ],
   "source": [
    "svm_model = SVC(kernel='linear',C=1)\n",
    "svm_model.fit(X_train,y_train)\n",
    "y_pred_svm_model = svm_model.predict(X_test)\n",
    "y_pred_svm_model"
   ]
  },
  {
   "cell_type": "code",
   "execution_count": 70,
   "id": "3faf6565-2b76-4929-abcf-5268b710ce44",
   "metadata": {},
   "outputs": [],
   "source": [
    "from sklearn.metrics import accuracy_score, recall_score, roc_auc_score, precision_score, confusion_matrix, f1_score"
   ]
  },
  {
   "cell_type": "code",
   "execution_count": 71,
   "id": "aed72400-061d-4452-a36d-99c3ec48416d",
   "metadata": {},
   "outputs": [
    {
     "name": "stdout",
     "output_type": "stream",
     "text": [
      "Accuracy: 0.7432867883995704\n",
      "Recall score: 0.471875\n",
      "AUC score: 0.6786543576104747\n",
      "Precision score: 0.6832579185520362\n",
      "Confusion Matrix: [[541  70]\n",
      " [169 151]]\n",
      "f1 score: 0.5582255083179297\n"
     ]
    }
   ],
   "source": [
    "accuracy = accuracy_score(y_test, y_pred_svm_model)\n",
    "print(\"Accuracy:\", accuracy)\n",
    "\n",
    "recall = recall_score(y_test,y_pred_svm_model)\n",
    "print(\"Recall score:\", recall)\n",
    "\n",
    "auc_score = roc_auc_score(y_test,y_pred_svm_model)\n",
    "print(\"AUC score:\",auc_score)\n",
    "\n",
    "precision = precision_score(y_test,y_pred_svm_model)\n",
    "print(\"Precision score:\",precision)\n",
    "\n",
    "confusion_mat = confusion_matrix(y_test, y_pred_svm_model)\n",
    "print(\"Confusion Matrix:\", confusion_mat)\n",
    "\n",
    "f1=f1_score(y_test,y_pred_svm_model)\n",
    "print(\"f1 score:\",f1)"
   ]
  },
  {
   "cell_type": "markdown",
   "id": "d9f24610-c87e-4808-ae3a-7d673079d2ed",
   "metadata": {},
   "source": [
    "# Model predicted by GridSearchCV (all features)"
   ]
  },
  {
   "cell_type": "code",
   "execution_count": null,
   "id": "fcb6e3bf-9035-4d44-829c-3800eba4dffc",
   "metadata": {},
   "outputs": [],
   "source": [
    "from sklearn.model_selection import GridSearchCV"
   ]
  },
  {
   "cell_type": "code",
   "execution_count": 52,
   "id": "73c94abc-b551-487b-9204-d4fe3fcf8ee0",
   "metadata": {},
   "outputs": [],
   "source": [
    "param_grid = {\n",
    "    'kernel':['linear','poly','rbf'] , \n",
    "    'C': [1,2,3,4,5], \n",
    "    'gamma':[0.1,0.3,0.7,0.9,1]\n",
    "}\n",
    "\n",
    "grid_search_svm = GridSearchCV(estimator=svm_model, param_grid=param_grid, cv=5, scoring='accuracy')\n",
    "\n",
    "grid_search_svm.fit(X_train, y_train)\n",
    "\n",
    "best_params_svm = grid_search_svm.best_params_\n",
    "best_estimator_svm = grid_search_svm.best_estimator_\n",
    "\n",
    "y_pred_grid_search_svm = best_estimator_svm.predict(X_test)"
   ]
  },
  {
   "cell_type": "code",
   "execution_count": 53,
   "id": "108206cd-0a14-4ac5-9214-a1d3420ae1f2",
   "metadata": {},
   "outputs": [
    {
     "name": "stdout",
     "output_type": "stream",
     "text": [
      "Best features: {'C': 5, 'gamma': 0.1, 'kernel': 'rbf'}\n",
      "Accuracy: 0.8582169709989259\n",
      "Recall score: 0.678125\n",
      "AUC score: 0.8153309124386253\n",
      "Precision score: 0.8821138211382114\n",
      "Confusion Matrix: [[582  29]\n",
      " [103 217]]\n",
      "f1 score: 0.7667844522968198\n"
     ]
    }
   ],
   "source": [
    "print(\"Best features:\", best_params_svm)\n",
    "\n",
    "accuracy = accuracy_score(y_test, y_pred_grid_search_svm)\n",
    "print(\"Accuracy:\", accuracy)\n",
    "\n",
    "recall = recall_score(y_test,y_pred_grid_search_svm)\n",
    "print(\"Recall score:\", recall)\n",
    "\n",
    "auc_score = roc_auc_score(y_test,y_pred_grid_search_svm)\n",
    "print(\"AUC score:\",auc_score)\n",
    "\n",
    "precision = precision_score(y_test,y_pred_grid_search_svm)\n",
    "print(\"Precision score:\",precision)\n",
    "\n",
    "confusion_mat = confusion_matrix(y_test, y_pred_grid_search_svm)\n",
    "print(\"Confusion Matrix:\", confusion_mat)\n",
    "\n",
    "f1=f1_score(y_test,y_pred_grid_search_svm)\n",
    "print(\"f1 score:\",f1)"
   ]
  },
  {
   "cell_type": "markdown",
   "id": "f7ac24ca-bec9-4e3e-a87c-64d24387128c",
   "metadata": {},
   "source": [
    "# Using correlation matrix to identify featrures to be removed"
   ]
  },
  {
   "cell_type": "code",
   "execution_count": null,
   "id": "870922e6-a1bb-4e77-95c6-d72e23e15108",
   "metadata": {},
   "outputs": [],
   "source": [
    "import seaborn as sns\n",
    "import matplotlib.pyplot as plt\n",
    "import plotly.express as px"
   ]
  },
  {
   "cell_type": "code",
   "execution_count": 73,
   "id": "c07a6a59-da5a-4805-bdd0-1fb072d5e7f4",
   "metadata": {},
   "outputs": [
    {
     "name": "stdout",
     "output_type": "stream",
     "text": [
      "Correlation Matrix:                            JoiningYear  PaymentTier       Age  \\\n",
      "JoiningYear                   1.000000    -0.099137  0.018141   \n",
      "PaymentTier                  -0.099137     1.000000 -0.000853   \n",
      "Age                           0.018141    -0.000853  1.000000   \n",
      "ExperienceInCurrentDomain    -0.049305     0.032618 -0.146305   \n",
      "Education_Bachelors          -0.172250     0.184975  0.014123   \n",
      "Education_Masters             0.186579    -0.200382 -0.009591   \n",
      "Education_PHD                -0.003609     0.003916 -0.011230   \n",
      "City_Bangalore               -0.100192     0.293227  0.029157   \n",
      "City_New Delhi                0.139846    -0.108351 -0.032571   \n",
      "City_Pune                    -0.023062    -0.224884 -0.001184   \n",
      "Gender_Male                  -0.006087     0.239510 -0.008464   \n",
      "EverBenched_Yes               0.065930     0.009953 -0.017411   \n",
      "Target                        0.192179    -0.186737 -0.045258   \n",
      "\n",
      "                           ExperienceInCurrentDomain  Education_Bachelors  \\\n",
      "JoiningYear                                -0.049305            -0.172250   \n",
      "PaymentTier                                 0.032618             0.184975   \n",
      "Age                                        -0.146305             0.014123   \n",
      "ExperienceInCurrentDomain                   1.000000             0.001533   \n",
      "Education_Bachelors                         0.001533             1.000000   \n",
      "Education_Masters                          -0.007259            -0.888198   \n",
      "Education_PHD                               0.011339            -0.372830   \n",
      "City_Bangalore                              0.013637             0.337816   \n",
      "City_New Delhi                             -0.015821            -0.438106   \n",
      "City_Pune                                   0.000017             0.045296   \n",
      "Gender_Male                                 0.014440             0.028428   \n",
      "EverBenched_Yes                             0.008146             0.031252   \n",
      "Target                                     -0.038957            -0.123895   \n",
      "\n",
      "                           Education_Masters  Education_PHD  City_Bangalore  \\\n",
      "JoiningYear                         0.186579      -0.003609       -0.100192   \n",
      "PaymentTier                        -0.200382       0.003916        0.293227   \n",
      "Age                                -0.009591      -0.011230        0.029157   \n",
      "ExperienceInCurrentDomain          -0.007259       0.011339        0.013637   \n",
      "Education_Bachelors                -0.888198      -0.372830        0.337816   \n",
      "Education_Masters                   1.000000      -0.095186       -0.327622   \n",
      "Education_PHD                      -0.095186       1.000000       -0.070260   \n",
      "City_Bangalore                     -0.327622      -0.070260        1.000000   \n",
      "City_New Delhi                      0.401480       0.138389       -0.553824   \n",
      "City_Pune                          -0.021188      -0.055348       -0.587852   \n",
      "Gender_Male                        -0.031717       0.002462        0.205811   \n",
      "EverBenched_Yes                    -0.004508      -0.058606       -0.002834   \n",
      "Target                              0.152118      -0.038779       -0.147910   \n",
      "\n",
      "                           City_New Delhi  City_Pune  Gender_Male  \\\n",
      "JoiningYear                      0.139846  -0.023062    -0.006087   \n",
      "PaymentTier                     -0.108351  -0.224884     0.239510   \n",
      "Age                             -0.032571  -0.001184    -0.008464   \n",
      "ExperienceInCurrentDomain       -0.015821   0.000017     0.014440   \n",
      "Education_Bachelors             -0.438106   0.045296     0.028428   \n",
      "Education_Masters                0.401480  -0.021188    -0.031717   \n",
      "Education_PHD                    0.138389  -0.055348     0.002462   \n",
      "City_Bangalore                  -0.553824  -0.587852     0.205811   \n",
      "City_New Delhi                   1.000000  -0.348007    -0.152227   \n",
      "City_Pune                       -0.348007   1.000000    -0.083830   \n",
      "Gender_Male                     -0.152227  -0.083830     1.000000   \n",
      "EverBenched_Yes                 -0.020101   0.022721     0.010273   \n",
      "Target                          -0.036786   0.202277    -0.211526   \n",
      "\n",
      "                           EverBenched_Yes    Target  \n",
      "JoiningYear                       0.065930  0.192179  \n",
      "PaymentTier                       0.009953 -0.186737  \n",
      "Age                              -0.017411 -0.045258  \n",
      "ExperienceInCurrentDomain         0.008146 -0.038957  \n",
      "Education_Bachelors               0.031252 -0.123895  \n",
      "Education_Masters                -0.004508  0.152118  \n",
      "Education_PHD                    -0.058606 -0.038779  \n",
      "City_Bangalore                   -0.002834 -0.147910  \n",
      "City_New Delhi                   -0.020101 -0.036786  \n",
      "City_Pune                         0.022721  0.202277  \n",
      "Gender_Male                       0.010273 -0.211526  \n",
      "EverBenched_Yes                   1.000000  0.072412  \n",
      "Target                            0.072412  1.000000  \n"
     ]
    },
    {
     "data": {
      "application/vnd.plotly.v1+json": {
       "config": {
        "plotlyServerURL": "https://plot.ly"
       },
       "data": [
        {
         "coloraxis": "coloraxis",
         "hovertemplate": "x: %{x}<br>y: %{y}<br>color: %{z}<extra></extra>",
         "name": "0",
         "texttemplate": "%{z}",
         "type": "heatmap",
         "x": [
          "JoiningYear",
          "PaymentTier",
          "Age",
          "ExperienceInCurrentDomain",
          "Education_Bachelors",
          "Education_Masters",
          "Education_PHD",
          "City_Bangalore",
          "City_New Delhi",
          "City_Pune",
          "Gender_Male",
          "EverBenched_Yes",
          "Target"
         ],
         "xaxis": "x",
         "y": [
          "JoiningYear",
          "PaymentTier",
          "Age",
          "ExperienceInCurrentDomain",
          "Education_Bachelors",
          "Education_Masters",
          "Education_PHD",
          "City_Bangalore",
          "City_New Delhi",
          "City_Pune",
          "Gender_Male",
          "EverBenched_Yes",
          "Target"
         ],
         "yaxis": "y",
         "z": [
          [
           1,
           -0.0991373467617778,
           0.01814104983783498,
           -0.04930497790881001,
           -0.17225040916410292,
           0.18657885584548078,
           -0.0036089360660524813,
           -0.10019175715404201,
           0.1398462332604214,
           -0.023062049520043815,
           -0.006087294293958874,
           0.06593041916657034,
           0.19217908928509095
          ],
          [
           -0.0991373467617778,
           1,
           -0.0008525173018393181,
           0.03261805228149863,
           0.18497469514721818,
           -0.20038177182175715,
           0.003916276177001298,
           0.29322734888924384,
           -0.10835054454755555,
           -0.2248841621993097,
           0.2395104577929755,
           0.009952811554048403,
           -0.18673737241364907
          ],
          [
           0.01814104983783498,
           -0.0008525173018393181,
           1,
           -0.1463046588363877,
           0.014123324531053985,
           -0.009590807764811958,
           -0.011230329862579422,
           0.029157246630604348,
           -0.0325711771728242,
           -0.0011837460045662025,
           -0.008463939382008968,
           -0.017411304916532845,
           -0.045258237632469826
          ],
          [
           -0.04930497790881001,
           0.03261805228149863,
           -0.1463046588363877,
           1,
           0.0015325563350810116,
           -0.007258924329091773,
           0.011339297748073508,
           0.013637284847451527,
           -0.01582123811106588,
           1.6860952805268462e-05,
           0.014439817642300465,
           0.008145588722690516,
           -0.03895737115104647
          ],
          [
           -0.17225040916410292,
           0.18497469514721818,
           0.014123324531053985,
           0.0015325563350810116,
           1,
           -0.8881983556919744,
           -0.3728298734737445,
           0.3378155829025736,
           -0.4381064433496866,
           0.04529596066608433,
           0.028428083322359937,
           0.03125215347108447,
           -0.12389543788317434
          ],
          [
           0.18657885584548078,
           -0.20038177182175715,
           -0.009590807764811958,
           -0.007258924329091773,
           -0.8881983556919744,
           1,
           -0.09518611475459038,
           -0.3276218080577085,
           0.40147956173683375,
           -0.02118762059093395,
           -0.03171685744471005,
           -0.004508087610554162,
           0.15211796395216828
          ],
          [
           -0.0036089360660524813,
           0.003916276177001298,
           -0.011230329862579422,
           0.011339297748073508,
           -0.3728298734737445,
           -0.09518611475459038,
           1,
           -0.07025972129029222,
           0.13838945262848473,
           -0.05534822510829611,
           0.002461709659915589,
           -0.05860616283285876,
           -0.03877882274645854
          ],
          [
           -0.10019175715404201,
           0.29322734888924384,
           0.029157246630604348,
           0.013637284847451527,
           0.3378155829025736,
           -0.3276218080577085,
           -0.07025972129029222,
           1,
           -0.5538244774052857,
           -0.587852094289636,
           0.20581085216578712,
           -0.0028340976653551332,
           -0.14790955879892115
          ],
          [
           0.1398462332604214,
           -0.10835054454755555,
           -0.0325711771728242,
           -0.01582123811106588,
           -0.4381064433496866,
           0.40147956173683375,
           0.13838945262848473,
           -0.5538244774052857,
           1,
           -0.3480072863518238,
           -0.1522267021771679,
           -0.02010129475313181,
           -0.03678635993076637
          ],
          [
           -0.023062049520043815,
           -0.2248841621993097,
           -0.0011837460045662025,
           1.6860952805268462e-05,
           0.04529596066608433,
           -0.02118762059093395,
           -0.05534822510829611,
           -0.587852094289636,
           -0.3480072863518238,
           1,
           -0.08382968170064493,
           0.022720990107340484,
           0.20227749453976163
          ],
          [
           -0.006087294293958874,
           0.2395104577929755,
           -0.008463939382008968,
           0.014439817642300465,
           0.028428083322359937,
           -0.03171685744471005,
           0.002461709659915589,
           0.20581085216578712,
           -0.1522267021771679,
           -0.08382968170064493,
           1,
           0.010272863742960407,
           -0.21152585715983
          ],
          [
           0.06593041916657034,
           0.009952811554048403,
           -0.017411304916532845,
           0.008145588722690516,
           0.03125215347108447,
           -0.004508087610554162,
           -0.05860616283285876,
           -0.0028340976653551332,
           -0.02010129475313181,
           0.022720990107340484,
           0.010272863742960407,
           1,
           0.07241151879872441
          ],
          [
           0.19217908928509095,
           -0.18673737241364907,
           -0.045258237632469826,
           -0.03895737115104647,
           -0.12389543788317434,
           0.15211796395216828,
           -0.03877882274645854,
           -0.14790955879892115,
           -0.03678635993076637,
           0.20227749453976163,
           -0.21152585715983,
           0.07241151879872441,
           1
          ]
         ]
        }
       ],
       "layout": {
        "coloraxis": {
         "colorscale": [
          [
           0,
           "#0d0887"
          ],
          [
           0.1111111111111111,
           "#46039f"
          ],
          [
           0.2222222222222222,
           "#7201a8"
          ],
          [
           0.3333333333333333,
           "#9c179e"
          ],
          [
           0.4444444444444444,
           "#bd3786"
          ],
          [
           0.5555555555555556,
           "#d8576b"
          ],
          [
           0.6666666666666666,
           "#ed7953"
          ],
          [
           0.7777777777777778,
           "#fb9f3a"
          ],
          [
           0.8888888888888888,
           "#fdca26"
          ],
          [
           1,
           "#f0f921"
          ]
         ]
        },
        "height": 1000,
        "margin": {
         "t": 60
        },
        "template": {
         "data": {
          "bar": [
           {
            "error_x": {
             "color": "#2a3f5f"
            },
            "error_y": {
             "color": "#2a3f5f"
            },
            "marker": {
             "line": {
              "color": "#E5ECF6",
              "width": 0.5
             },
             "pattern": {
              "fillmode": "overlay",
              "size": 10,
              "solidity": 0.2
             }
            },
            "type": "bar"
           }
          ],
          "barpolar": [
           {
            "marker": {
             "line": {
              "color": "#E5ECF6",
              "width": 0.5
             },
             "pattern": {
              "fillmode": "overlay",
              "size": 10,
              "solidity": 0.2
             }
            },
            "type": "barpolar"
           }
          ],
          "carpet": [
           {
            "aaxis": {
             "endlinecolor": "#2a3f5f",
             "gridcolor": "white",
             "linecolor": "white",
             "minorgridcolor": "white",
             "startlinecolor": "#2a3f5f"
            },
            "baxis": {
             "endlinecolor": "#2a3f5f",
             "gridcolor": "white",
             "linecolor": "white",
             "minorgridcolor": "white",
             "startlinecolor": "#2a3f5f"
            },
            "type": "carpet"
           }
          ],
          "choropleth": [
           {
            "colorbar": {
             "outlinewidth": 0,
             "ticks": ""
            },
            "type": "choropleth"
           }
          ],
          "contour": [
           {
            "colorbar": {
             "outlinewidth": 0,
             "ticks": ""
            },
            "colorscale": [
             [
              0,
              "#0d0887"
             ],
             [
              0.1111111111111111,
              "#46039f"
             ],
             [
              0.2222222222222222,
              "#7201a8"
             ],
             [
              0.3333333333333333,
              "#9c179e"
             ],
             [
              0.4444444444444444,
              "#bd3786"
             ],
             [
              0.5555555555555556,
              "#d8576b"
             ],
             [
              0.6666666666666666,
              "#ed7953"
             ],
             [
              0.7777777777777778,
              "#fb9f3a"
             ],
             [
              0.8888888888888888,
              "#fdca26"
             ],
             [
              1,
              "#f0f921"
             ]
            ],
            "type": "contour"
           }
          ],
          "contourcarpet": [
           {
            "colorbar": {
             "outlinewidth": 0,
             "ticks": ""
            },
            "type": "contourcarpet"
           }
          ],
          "heatmap": [
           {
            "colorbar": {
             "outlinewidth": 0,
             "ticks": ""
            },
            "colorscale": [
             [
              0,
              "#0d0887"
             ],
             [
              0.1111111111111111,
              "#46039f"
             ],
             [
              0.2222222222222222,
              "#7201a8"
             ],
             [
              0.3333333333333333,
              "#9c179e"
             ],
             [
              0.4444444444444444,
              "#bd3786"
             ],
             [
              0.5555555555555556,
              "#d8576b"
             ],
             [
              0.6666666666666666,
              "#ed7953"
             ],
             [
              0.7777777777777778,
              "#fb9f3a"
             ],
             [
              0.8888888888888888,
              "#fdca26"
             ],
             [
              1,
              "#f0f921"
             ]
            ],
            "type": "heatmap"
           }
          ],
          "heatmapgl": [
           {
            "colorbar": {
             "outlinewidth": 0,
             "ticks": ""
            },
            "colorscale": [
             [
              0,
              "#0d0887"
             ],
             [
              0.1111111111111111,
              "#46039f"
             ],
             [
              0.2222222222222222,
              "#7201a8"
             ],
             [
              0.3333333333333333,
              "#9c179e"
             ],
             [
              0.4444444444444444,
              "#bd3786"
             ],
             [
              0.5555555555555556,
              "#d8576b"
             ],
             [
              0.6666666666666666,
              "#ed7953"
             ],
             [
              0.7777777777777778,
              "#fb9f3a"
             ],
             [
              0.8888888888888888,
              "#fdca26"
             ],
             [
              1,
              "#f0f921"
             ]
            ],
            "type": "heatmapgl"
           }
          ],
          "histogram": [
           {
            "marker": {
             "pattern": {
              "fillmode": "overlay",
              "size": 10,
              "solidity": 0.2
             }
            },
            "type": "histogram"
           }
          ],
          "histogram2d": [
           {
            "colorbar": {
             "outlinewidth": 0,
             "ticks": ""
            },
            "colorscale": [
             [
              0,
              "#0d0887"
             ],
             [
              0.1111111111111111,
              "#46039f"
             ],
             [
              0.2222222222222222,
              "#7201a8"
             ],
             [
              0.3333333333333333,
              "#9c179e"
             ],
             [
              0.4444444444444444,
              "#bd3786"
             ],
             [
              0.5555555555555556,
              "#d8576b"
             ],
             [
              0.6666666666666666,
              "#ed7953"
             ],
             [
              0.7777777777777778,
              "#fb9f3a"
             ],
             [
              0.8888888888888888,
              "#fdca26"
             ],
             [
              1,
              "#f0f921"
             ]
            ],
            "type": "histogram2d"
           }
          ],
          "histogram2dcontour": [
           {
            "colorbar": {
             "outlinewidth": 0,
             "ticks": ""
            },
            "colorscale": [
             [
              0,
              "#0d0887"
             ],
             [
              0.1111111111111111,
              "#46039f"
             ],
             [
              0.2222222222222222,
              "#7201a8"
             ],
             [
              0.3333333333333333,
              "#9c179e"
             ],
             [
              0.4444444444444444,
              "#bd3786"
             ],
             [
              0.5555555555555556,
              "#d8576b"
             ],
             [
              0.6666666666666666,
              "#ed7953"
             ],
             [
              0.7777777777777778,
              "#fb9f3a"
             ],
             [
              0.8888888888888888,
              "#fdca26"
             ],
             [
              1,
              "#f0f921"
             ]
            ],
            "type": "histogram2dcontour"
           }
          ],
          "mesh3d": [
           {
            "colorbar": {
             "outlinewidth": 0,
             "ticks": ""
            },
            "type": "mesh3d"
           }
          ],
          "parcoords": [
           {
            "line": {
             "colorbar": {
              "outlinewidth": 0,
              "ticks": ""
             }
            },
            "type": "parcoords"
           }
          ],
          "pie": [
           {
            "automargin": true,
            "type": "pie"
           }
          ],
          "scatter": [
           {
            "fillpattern": {
             "fillmode": "overlay",
             "size": 10,
             "solidity": 0.2
            },
            "type": "scatter"
           }
          ],
          "scatter3d": [
           {
            "line": {
             "colorbar": {
              "outlinewidth": 0,
              "ticks": ""
             }
            },
            "marker": {
             "colorbar": {
              "outlinewidth": 0,
              "ticks": ""
             }
            },
            "type": "scatter3d"
           }
          ],
          "scattercarpet": [
           {
            "marker": {
             "colorbar": {
              "outlinewidth": 0,
              "ticks": ""
             }
            },
            "type": "scattercarpet"
           }
          ],
          "scattergeo": [
           {
            "marker": {
             "colorbar": {
              "outlinewidth": 0,
              "ticks": ""
             }
            },
            "type": "scattergeo"
           }
          ],
          "scattergl": [
           {
            "marker": {
             "colorbar": {
              "outlinewidth": 0,
              "ticks": ""
             }
            },
            "type": "scattergl"
           }
          ],
          "scattermapbox": [
           {
            "marker": {
             "colorbar": {
              "outlinewidth": 0,
              "ticks": ""
             }
            },
            "type": "scattermapbox"
           }
          ],
          "scatterpolar": [
           {
            "marker": {
             "colorbar": {
              "outlinewidth": 0,
              "ticks": ""
             }
            },
            "type": "scatterpolar"
           }
          ],
          "scatterpolargl": [
           {
            "marker": {
             "colorbar": {
              "outlinewidth": 0,
              "ticks": ""
             }
            },
            "type": "scatterpolargl"
           }
          ],
          "scatterternary": [
           {
            "marker": {
             "colorbar": {
              "outlinewidth": 0,
              "ticks": ""
             }
            },
            "type": "scatterternary"
           }
          ],
          "surface": [
           {
            "colorbar": {
             "outlinewidth": 0,
             "ticks": ""
            },
            "colorscale": [
             [
              0,
              "#0d0887"
             ],
             [
              0.1111111111111111,
              "#46039f"
             ],
             [
              0.2222222222222222,
              "#7201a8"
             ],
             [
              0.3333333333333333,
              "#9c179e"
             ],
             [
              0.4444444444444444,
              "#bd3786"
             ],
             [
              0.5555555555555556,
              "#d8576b"
             ],
             [
              0.6666666666666666,
              "#ed7953"
             ],
             [
              0.7777777777777778,
              "#fb9f3a"
             ],
             [
              0.8888888888888888,
              "#fdca26"
             ],
             [
              1,
              "#f0f921"
             ]
            ],
            "type": "surface"
           }
          ],
          "table": [
           {
            "cells": {
             "fill": {
              "color": "#EBF0F8"
             },
             "line": {
              "color": "white"
             }
            },
            "header": {
             "fill": {
              "color": "#C8D4E3"
             },
             "line": {
              "color": "white"
             }
            },
            "type": "table"
           }
          ]
         },
         "layout": {
          "annotationdefaults": {
           "arrowcolor": "#2a3f5f",
           "arrowhead": 0,
           "arrowwidth": 1
          },
          "autotypenumbers": "strict",
          "coloraxis": {
           "colorbar": {
            "outlinewidth": 0,
            "ticks": ""
           }
          },
          "colorscale": {
           "diverging": [
            [
             0,
             "#8e0152"
            ],
            [
             0.1,
             "#c51b7d"
            ],
            [
             0.2,
             "#de77ae"
            ],
            [
             0.3,
             "#f1b6da"
            ],
            [
             0.4,
             "#fde0ef"
            ],
            [
             0.5,
             "#f7f7f7"
            ],
            [
             0.6,
             "#e6f5d0"
            ],
            [
             0.7,
             "#b8e186"
            ],
            [
             0.8,
             "#7fbc41"
            ],
            [
             0.9,
             "#4d9221"
            ],
            [
             1,
             "#276419"
            ]
           ],
           "sequential": [
            [
             0,
             "#0d0887"
            ],
            [
             0.1111111111111111,
             "#46039f"
            ],
            [
             0.2222222222222222,
             "#7201a8"
            ],
            [
             0.3333333333333333,
             "#9c179e"
            ],
            [
             0.4444444444444444,
             "#bd3786"
            ],
            [
             0.5555555555555556,
             "#d8576b"
            ],
            [
             0.6666666666666666,
             "#ed7953"
            ],
            [
             0.7777777777777778,
             "#fb9f3a"
            ],
            [
             0.8888888888888888,
             "#fdca26"
            ],
            [
             1,
             "#f0f921"
            ]
           ],
           "sequentialminus": [
            [
             0,
             "#0d0887"
            ],
            [
             0.1111111111111111,
             "#46039f"
            ],
            [
             0.2222222222222222,
             "#7201a8"
            ],
            [
             0.3333333333333333,
             "#9c179e"
            ],
            [
             0.4444444444444444,
             "#bd3786"
            ],
            [
             0.5555555555555556,
             "#d8576b"
            ],
            [
             0.6666666666666666,
             "#ed7953"
            ],
            [
             0.7777777777777778,
             "#fb9f3a"
            ],
            [
             0.8888888888888888,
             "#fdca26"
            ],
            [
             1,
             "#f0f921"
            ]
           ]
          },
          "colorway": [
           "#636efa",
           "#EF553B",
           "#00cc96",
           "#ab63fa",
           "#FFA15A",
           "#19d3f3",
           "#FF6692",
           "#B6E880",
           "#FF97FF",
           "#FECB52"
          ],
          "font": {
           "color": "#2a3f5f"
          },
          "geo": {
           "bgcolor": "white",
           "lakecolor": "white",
           "landcolor": "#E5ECF6",
           "showlakes": true,
           "showland": true,
           "subunitcolor": "white"
          },
          "hoverlabel": {
           "align": "left"
          },
          "hovermode": "closest",
          "mapbox": {
           "style": "light"
          },
          "paper_bgcolor": "white",
          "plot_bgcolor": "#E5ECF6",
          "polar": {
           "angularaxis": {
            "gridcolor": "white",
            "linecolor": "white",
            "ticks": ""
           },
           "bgcolor": "#E5ECF6",
           "radialaxis": {
            "gridcolor": "white",
            "linecolor": "white",
            "ticks": ""
           }
          },
          "scene": {
           "xaxis": {
            "backgroundcolor": "#E5ECF6",
            "gridcolor": "white",
            "gridwidth": 2,
            "linecolor": "white",
            "showbackground": true,
            "ticks": "",
            "zerolinecolor": "white"
           },
           "yaxis": {
            "backgroundcolor": "#E5ECF6",
            "gridcolor": "white",
            "gridwidth": 2,
            "linecolor": "white",
            "showbackground": true,
            "ticks": "",
            "zerolinecolor": "white"
           },
           "zaxis": {
            "backgroundcolor": "#E5ECF6",
            "gridcolor": "white",
            "gridwidth": 2,
            "linecolor": "white",
            "showbackground": true,
            "ticks": "",
            "zerolinecolor": "white"
           }
          },
          "shapedefaults": {
           "line": {
            "color": "#2a3f5f"
           }
          },
          "ternary": {
           "aaxis": {
            "gridcolor": "white",
            "linecolor": "white",
            "ticks": ""
           },
           "baxis": {
            "gridcolor": "white",
            "linecolor": "white",
            "ticks": ""
           },
           "bgcolor": "#E5ECF6",
           "caxis": {
            "gridcolor": "white",
            "linecolor": "white",
            "ticks": ""
           }
          },
          "title": {
           "x": 0.05
          },
          "xaxis": {
           "automargin": true,
           "gridcolor": "white",
           "linecolor": "white",
           "ticks": "",
           "title": {
            "standoff": 15
           },
           "zerolinecolor": "white",
           "zerolinewidth": 2
          },
          "yaxis": {
           "automargin": true,
           "gridcolor": "white",
           "linecolor": "white",
           "ticks": "",
           "title": {
            "standoff": 15
           },
           "zerolinecolor": "white",
           "zerolinewidth": 2
          }
         }
        },
        "width": 1425,
        "xaxis": {
         "anchor": "y",
         "autorange": true,
         "constrain": "domain",
         "domain": [
          0.1631407648494711,
          0.8368592351505288
         ],
         "range": [
          -0.5,
          12.5
         ],
         "scaleanchor": "y",
         "type": "category"
        },
        "yaxis": {
         "anchor": "x",
         "autorange": true,
         "constrain": "domain",
         "domain": [
          0,
          1
         ],
         "range": [
          12.5,
          -0.5
         ],
         "type": "category"
        }
       }
      },
      "image/png": "[encoded data removed]",
      "text/html": [
       "<div>                            <div id=\"1239b944-3267-43ec-a119-e40398194f6b\" class=\"plotly-graph-div\" style=\"height:1000px; width:1425px;\"></div>            <script type=\"text/javascript\">                require([\"plotly\"], function(Plotly) {                    window.PLOTLYENV=window.PLOTLYENV || {};                                    if (document.getElementById(\"1239b944-3267-43ec-a119-e40398194f6b\")) {                    Plotly.newPlot(                        \"1239b944-3267-43ec-a119-e40398194f6b\",                        [{\"coloraxis\":\"coloraxis\",\"name\":\"0\",\"texttemplate\":\"%{z}\",\"x\":[\"JoiningYear\",\"PaymentTier\",\"Age\",\"ExperienceInCurrentDomain\",\"Education_Bachelors\",\"Education_Masters\",\"Education_PHD\",\"City_Bangalore\",\"City_New Delhi\",\"City_Pune\",\"Gender_Male\",\"EverBenched_Yes\",\"Target\"],\"y\":[\"JoiningYear\",\"PaymentTier\",\"Age\",\"ExperienceInCurrentDomain\",\"Education_Bachelors\",\"Education_Masters\",\"Education_PHD\",\"City_Bangalore\",\"City_New Delhi\",\"City_Pune\",\"Gender_Male\",\"EverBenched_Yes\",\"Target\"],\"z\":[[1.0,-0.0991373467617778,0.01814104983783498,-0.04930497790881001,-0.17225040916410292,0.18657885584548078,-0.0036089360660524813,-0.10019175715404201,0.1398462332604214,-0.023062049520043815,-0.006087294293958874,0.06593041916657034,0.19217908928509095],[-0.0991373467617778,1.0,-0.0008525173018393181,0.03261805228149863,0.18497469514721818,-0.20038177182175715,0.003916276177001298,0.29322734888924384,-0.10835054454755555,-0.2248841621993097,0.2395104577929755,0.009952811554048403,-0.18673737241364907],[0.01814104983783498,-0.0008525173018393181,1.0,-0.1463046588363877,0.014123324531053985,-0.009590807764811958,-0.011230329862579422,0.029157246630604348,-0.0325711771728242,-0.0011837460045662025,-0.008463939382008968,-0.017411304916532845,-0.045258237632469826],[-0.04930497790881001,0.03261805228149863,-0.1463046588363877,1.0,0.0015325563350810116,-0.007258924329091773,0.011339297748073508,0.013637284847451527,-0.01582123811106588,1.6860952805268462e-05,0.014439817642300465,0.008145588722690516,-0.03895737115104647],[-0.17225040916410292,0.18497469514721818,0.014123324531053985,0.0015325563350810116,1.0,-0.8881983556919744,-0.3728298734737445,0.3378155829025736,-0.4381064433496866,0.04529596066608433,0.028428083322359937,0.03125215347108447,-0.12389543788317434],[0.18657885584548078,-0.20038177182175715,-0.009590807764811958,-0.007258924329091773,-0.8881983556919744,1.0,-0.09518611475459038,-0.3276218080577085,0.40147956173683375,-0.02118762059093395,-0.03171685744471005,-0.004508087610554162,0.15211796395216828],[-0.0036089360660524813,0.003916276177001298,-0.011230329862579422,0.011339297748073508,-0.3728298734737445,-0.09518611475459038,1.0,-0.07025972129029222,0.13838945262848473,-0.05534822510829611,0.002461709659915589,-0.05860616283285876,-0.03877882274645854],[-0.10019175715404201,0.29322734888924384,0.029157246630604348,0.013637284847451527,0.3378155829025736,-0.3276218080577085,-0.07025972129029222,1.0,-0.5538244774052857,-0.587852094289636,0.20581085216578712,-0.0028340976653551332,-0.14790955879892115],[0.1398462332604214,-0.10835054454755555,-0.0325711771728242,-0.01582123811106588,-0.4381064433496866,0.40147956173683375,0.13838945262848473,-0.5538244774052857,1.0,-0.3480072863518238,-0.1522267021771679,-0.02010129475313181,-0.03678635993076637],[-0.023062049520043815,-0.2248841621993097,-0.0011837460045662025,1.6860952805268462e-05,0.04529596066608433,-0.02118762059093395,-0.05534822510829611,-0.587852094289636,-0.3480072863518238,1.0,-0.08382968170064493,0.022720990107340484,0.20227749453976163],[-0.006087294293958874,0.2395104577929755,-0.008463939382008968,0.014439817642300465,0.028428083322359937,-0.03171685744471005,0.002461709659915589,0.20581085216578712,-0.1522267021771679,-0.08382968170064493,1.0,0.010272863742960407,-0.21152585715983],[0.06593041916657034,0.009952811554048403,-0.017411304916532845,0.008145588722690516,0.03125215347108447,-0.004508087610554162,-0.05860616283285876,-0.0028340976653551332,-0.02010129475313181,0.022720990107340484,0.010272863742960407,1.0,0.07241151879872441],[0.19217908928509095,-0.18673737241364907,-0.045258237632469826,-0.03895737115104647,-0.12389543788317434,0.15211796395216828,-0.03877882274645854,-0.14790955879892115,-0.03678635993076637,0.20227749453976163,-0.21152585715983,0.07241151879872441,1.0]],\"type\":\"heatmap\",\"xaxis\":\"x\",\"yaxis\":\"y\",\"hovertemplate\":\"x: %{x}\\u003cbr\\u003ey: %{y}\\u003cbr\\u003ecolor: %{z}\\u003cextra\\u003e\\u003c\\u002fextra\\u003e\"}],                        {\"template\":{\"data\":{\"histogram2dcontour\":[{\"type\":\"histogram2dcontour\",\"colorbar\":{\"outlinewidth\":0,\"ticks\":\"\"},\"colorscale\":[[0.0,\"#0d0887\"],[0.1111111111111111,\"#46039f\"],[0.2222222222222222,\"#7201a8\"],[0.3333333333333333,\"#9c179e\"],[0.4444444444444444,\"#bd3786\"],[0.5555555555555556,\"#d8576b\"],[0.6666666666666666,\"#ed7953\"],[0.7777777777777778,\"#fb9f3a\"],[0.8888888888888888,\"#fdca26\"],[1.0,\"#f0f921\"]]}],\"choropleth\":[{\"type\":\"choropleth\",\"colorbar\":{\"outlinewidth\":0,\"ticks\":\"\"}}],\"histogram2d\":[{\"type\":\"histogram2d\",\"colorbar\":{\"outlinewidth\":0,\"ticks\":\"\"},\"colorscale\":[[0.0,\"#0d0887\"],[0.1111111111111111,\"#46039f\"],[0.2222222222222222,\"#7201a8\"],[0.3333333333333333,\"#9c179e\"],[0.4444444444444444,\"#bd3786\"],[0.5555555555555556,\"#d8576b\"],[0.6666666666666666,\"#ed7953\"],[0.7777777777777778,\"#fb9f3a\"],[0.8888888888888888,\"#fdca26\"],[1.0,\"#f0f921\"]]}],\"heatmap\":[{\"type\":\"heatmap\",\"colorbar\":{\"outlinewidth\":0,\"ticks\":\"\"},\"colorscale\":[[0.0,\"#0d0887\"],[0.1111111111111111,\"#46039f\"],[0.2222222222222222,\"#7201a8\"],[0.3333333333333333,\"#9c179e\"],[0.4444444444444444,\"#bd3786\"],[0.5555555555555556,\"#d8576b\"],[0.6666666666666666,\"#ed7953\"],[0.7777777777777778,\"#fb9f3a\"],[0.8888888888888888,\"#fdca26\"],[1.0,\"#f0f921\"]]}],\"heatmapgl\":[{\"type\":\"heatmapgl\",\"colorbar\":{\"outlinewidth\":0,\"ticks\":\"\"},\"colorscale\":[[0.0,\"#0d0887\"],[0.1111111111111111,\"#46039f\"],[0.2222222222222222,\"#7201a8\"],[0.3333333333333333,\"#9c179e\"],[0.4444444444444444,\"#bd3786\"],[0.5555555555555556,\"#d8576b\"],[0.6666666666666666,\"#ed7953\"],[0.7777777777777778,\"#fb9f3a\"],[0.8888888888888888,\"#fdca26\"],[1.0,\"#f0f921\"]]}],\"contourcarpet\":[{\"type\":\"contourcarpet\",\"colorbar\":{\"outlinewidth\":0,\"ticks\":\"\"}}],\"contour\":[{\"type\":\"contour\",\"colorbar\":{\"outlinewidth\":0,\"ticks\":\"\"},\"colorscale\":[[0.0,\"#0d0887\"],[0.1111111111111111,\"#46039f\"],[0.2222222222222222,\"#7201a8\"],[0.3333333333333333,\"#9c179e\"],[0.4444444444444444,\"#bd3786\"],[0.5555555555555556,\"#d8576b\"],[0.6666666666666666,\"#ed7953\"],[0.7777777777777778,\"#fb9f3a\"],[0.8888888888888888,\"#fdca26\"],[1.0,\"#f0f921\"]]}],\"surface\":[{\"type\":\"surface\",\"colorbar\":{\"outlinewidth\":0,\"ticks\":\"\"},\"colorscale\":[[0.0,\"#0d0887\"],[0.1111111111111111,\"#46039f\"],[0.2222222222222222,\"#7201a8\"],[0.3333333333333333,\"#9c179e\"],[0.4444444444444444,\"#bd3786\"],[0.5555555555555556,\"#d8576b\"],[0.6666666666666666,\"#ed7953\"],[0.7777777777777778,\"#fb9f3a\"],[0.8888888888888888,\"#fdca26\"],[1.0,\"#f0f921\"]]}],\"mesh3d\":[{\"type\":\"mesh3d\",\"colorbar\":{\"outlinewidth\":0,\"ticks\":\"\"}}],\"scatter\":[{\"fillpattern\":{\"fillmode\":\"overlay\",\"size\":10,\"solidity\":0.2},\"type\":\"scatter\"}],\"parcoords\":[{\"type\":\"parcoords\",\"line\":{\"colorbar\":{\"outlinewidth\":0,\"ticks\":\"\"}}}],\"scatterpolargl\":[{\"type\":\"scatterpolargl\",\"marker\":{\"colorbar\":{\"outlinewidth\":0,\"ticks\":\"\"}}}],\"bar\":[{\"error_x\":{\"color\":\"#2a3f5f\"},\"error_y\":{\"color\":\"#2a3f5f\"},\"marker\":{\"line\":{\"color\":\"#E5ECF6\",\"width\":0.5},\"pattern\":{\"fillmode\":\"overlay\",\"size\":10,\"solidity\":0.2}},\"type\":\"bar\"}],\"scattergeo\":[{\"type\":\"scattergeo\",\"marker\":{\"colorbar\":{\"outlinewidth\":0,\"ticks\":\"\"}}}],\"scatterpolar\":[{\"type\":\"scatterpolar\",\"marker\":{\"colorbar\":{\"outlinewidth\":0,\"ticks\":\"\"}}}],\"histogram\":[{\"marker\":{\"pattern\":{\"fillmode\":\"overlay\",\"size\":10,\"solidity\":0.2}},\"type\":\"histogram\"}],\"scattergl\":[{\"type\":\"scattergl\",\"marker\":{\"colorbar\":{\"outlinewidth\":0,\"ticks\":\"\"}}}],\"scatter3d\":[{\"type\":\"scatter3d\",\"line\":{\"colorbar\":{\"outlinewidth\":0,\"ticks\":\"\"}},\"marker\":{\"colorbar\":{\"outlinewidth\":0,\"ticks\":\"\"}}}],\"scattermapbox\":[{\"type\":\"scattermapbox\",\"marker\":{\"colorbar\":{\"outlinewidth\":0,\"ticks\":\"\"}}}],\"scatterternary\":[{\"type\":\"scatterternary\",\"marker\":{\"colorbar\":{\"outlinewidth\":0,\"ticks\":\"\"}}}],\"scattercarpet\":[{\"type\":\"scattercarpet\",\"marker\":{\"colorbar\":{\"outlinewidth\":0,\"ticks\":\"\"}}}],\"carpet\":[{\"aaxis\":{\"endlinecolor\":\"#2a3f5f\",\"gridcolor\":\"white\",\"linecolor\":\"white\",\"minorgridcolor\":\"white\",\"startlinecolor\":\"#2a3f5f\"},\"baxis\":{\"endlinecolor\":\"#2a3f5f\",\"gridcolor\":\"white\",\"linecolor\":\"white\",\"minorgridcolor\":\"white\",\"startlinecolor\":\"#2a3f5f\"},\"type\":\"carpet\"}],\"table\":[{\"cells\":{\"fill\":{\"color\":\"#EBF0F8\"},\"line\":{\"color\":\"white\"}},\"header\":{\"fill\":{\"color\":\"#C8D4E3\"},\"line\":{\"color\":\"white\"}},\"type\":\"table\"}],\"barpolar\":[{\"marker\":{\"line\":{\"color\":\"#E5ECF6\",\"width\":0.5},\"pattern\":{\"fillmode\":\"overlay\",\"size\":10,\"solidity\":0.2}},\"type\":\"barpolar\"}],\"pie\":[{\"automargin\":true,\"type\":\"pie\"}]},\"layout\":{\"autotypenumbers\":\"strict\",\"colorway\":[\"#636efa\",\"#EF553B\",\"#00cc96\",\"#ab63fa\",\"#FFA15A\",\"#19d3f3\",\"#FF6692\",\"#B6E880\",\"#FF97FF\",\"#FECB52\"],\"font\":{\"color\":\"#2a3f5f\"},\"hovermode\":\"closest\",\"hoverlabel\":{\"align\":\"left\"},\"paper_bgcolor\":\"white\",\"plot_bgcolor\":\"#E5ECF6\",\"polar\":{\"bgcolor\":\"#E5ECF6\",\"angularaxis\":{\"gridcolor\":\"white\",\"linecolor\":\"white\",\"ticks\":\"\"},\"radialaxis\":{\"gridcolor\":\"white\",\"linecolor\":\"white\",\"ticks\":\"\"}},\"ternary\":{\"bgcolor\":\"#E5ECF6\",\"aaxis\":{\"gridcolor\":\"white\",\"linecolor\":\"white\",\"ticks\":\"\"},\"baxis\":{\"gridcolor\":\"white\",\"linecolor\":\"white\",\"ticks\":\"\"},\"caxis\":{\"gridcolor\":\"white\",\"linecolor\":\"white\",\"ticks\":\"\"}},\"coloraxis\":{\"colorbar\":{\"outlinewidth\":0,\"ticks\":\"\"}},\"colorscale\":{\"sequential\":[[0.0,\"#0d0887\"],[0.1111111111111111,\"#46039f\"],[0.2222222222222222,\"#7201a8\"],[0.3333333333333333,\"#9c179e\"],[0.4444444444444444,\"#bd3786\"],[0.5555555555555556,\"#d8576b\"],[0.6666666666666666,\"#ed7953\"],[0.7777777777777778,\"#fb9f3a\"],[0.8888888888888888,\"#fdca26\"],[1.0,\"#f0f921\"]],\"sequentialminus\":[[0.0,\"#0d0887\"],[0.1111111111111111,\"#46039f\"],[0.2222222222222222,\"#7201a8\"],[0.3333333333333333,\"#9c179e\"],[0.4444444444444444,\"#bd3786\"],[0.5555555555555556,\"#d8576b\"],[0.6666666666666666,\"#ed7953\"],[0.7777777777777778,\"#fb9f3a\"],[0.8888888888888888,\"#fdca26\"],[1.0,\"#f0f921\"]],\"diverging\":[[0,\"#8e0152\"],[0.1,\"#c51b7d\"],[0.2,\"#de77ae\"],[0.3,\"#f1b6da\"],[0.4,\"#fde0ef\"],[0.5,\"#f7f7f7\"],[0.6,\"#e6f5d0\"],[0.7,\"#b8e186\"],[0.8,\"#7fbc41\"],[0.9,\"#4d9221\"],[1,\"#276419\"]]},\"xaxis\":{\"gridcolor\":\"white\",\"linecolor\":\"white\",\"ticks\":\"\",\"title\":{\"standoff\":15},\"zerolinecolor\":\"white\",\"automargin\":true,\"zerolinewidth\":2},\"yaxis\":{\"gridcolor\":\"white\",\"linecolor\":\"white\",\"ticks\":\"\",\"title\":{\"standoff\":15},\"zerolinecolor\":\"white\",\"automargin\":true,\"zerolinewidth\":2},\"scene\":{\"xaxis\":{\"backgroundcolor\":\"#E5ECF6\",\"gridcolor\":\"white\",\"linecolor\":\"white\",\"showbackground\":true,\"ticks\":\"\",\"zerolinecolor\":\"white\",\"gridwidth\":2},\"yaxis\":{\"backgroundcolor\":\"#E5ECF6\",\"gridcolor\":\"white\",\"linecolor\":\"white\",\"showbackground\":true,\"ticks\":\"\",\"zerolinecolor\":\"white\",\"gridwidth\":2},\"zaxis\":{\"backgroundcolor\":\"#E5ECF6\",\"gridcolor\":\"white\",\"linecolor\":\"white\",\"showbackground\":true,\"ticks\":\"\",\"zerolinecolor\":\"white\",\"gridwidth\":2}},\"shapedefaults\":{\"line\":{\"color\":\"#2a3f5f\"}},\"annotationdefaults\":{\"arrowcolor\":\"#2a3f5f\",\"arrowhead\":0,\"arrowwidth\":1},\"geo\":{\"bgcolor\":\"white\",\"landcolor\":\"#E5ECF6\",\"subunitcolor\":\"white\",\"showland\":true,\"showlakes\":true,\"lakecolor\":\"white\"},\"title\":{\"x\":0.05},\"mapbox\":{\"style\":\"light\"}}},\"xaxis\":{\"anchor\":\"y\",\"domain\":[0.0,1.0],\"scaleanchor\":\"y\",\"constrain\":\"domain\"},\"yaxis\":{\"anchor\":\"x\",\"domain\":[0.0,1.0],\"autorange\":\"reversed\",\"constrain\":\"domain\"},\"coloraxis\":{\"colorscale\":[[0.0,\"#0d0887\"],[0.1111111111111111,\"#46039f\"],[0.2222222222222222,\"#7201a8\"],[0.3333333333333333,\"#9c179e\"],[0.4444444444444444,\"#bd3786\"],[0.5555555555555556,\"#d8576b\"],[0.6666666666666666,\"#ed7953\"],[0.7777777777777778,\"#fb9f3a\"],[0.8888888888888888,\"#fdca26\"],[1.0,\"#f0f921\"]]},\"margin\":{\"t\":60},\"height\":1000,\"width\":1425},                        {\"responsive\": true}                    ).then(function(){\n",
       "                            \n",
       "var gd = document.getElementById('1239b944-3267-43ec-a119-e40398194f6b');\n",
       "var x = new MutationObserver(function (mutations, observer) {{\n",
       "        var display = window.getComputedStyle(gd).display;\n",
       "        if (!display || display === 'none') {{\n",
       "            console.log([gd, 'removed!']);\n",
       "            Plotly.purge(gd);\n",
       "            observer.disconnect();\n",
       "        }}\n",
       "}});\n",
       "\n",
       "// Listen for the removal of the full notebook cells\n",
       "var notebookContainer = gd.closest('#notebook-container');\n",
       "if (notebookContainer) {{\n",
       "    x.observe(notebookContainer, {childList: true});\n",
       "}}\n",
       "\n",
       "// Listen for the clearing of the current output cell\n",
       "var outputEl = gd.closest('.output');\n",
       "if (outputEl) {{\n",
       "    x.observe(outputEl, {childList: true});\n",
       "}}\n",
       "\n",
       "                        })                };                });            </script>        </div>"
      ]
     },
     "metadata": {},
     "output_type": "display_data"
    }
   ],
   "source": [
    "correlation_matrix = train_df.corr()\n",
    "print(\"Correlation Matrix:\",correlation_matrix)\n",
    "\n",
    "correlation_matrix = train_df.corr()\n",
    "\n",
    "fig = px.imshow(correlation_matrix, text_auto=True,width=1425, height=1000)\n",
    "fig.show()\n"
   ]
  },
  {
   "cell_type": "markdown",
   "id": "8e34516e-c15a-4061-8fa4-c41c79cb9459",
   "metadata": {},
   "source": [
    "# Removing features - Age, Experience in Current Domain, Education PhD, City New Delhi and Ever Benched Yes"
   ]
  },
  {
   "cell_type": "code",
   "execution_count": 24,
   "id": "ce0ba19e-9cc7-42b4-b533-9525fd8a42af",
   "metadata": {},
   "outputs": [
    {
     "data": {
      "text/html": [
       "<div>\n",
       "<style scoped>\n",
       "    .dataframe tbody tr th:only-of-type {\n",
       "        vertical-align: middle;\n",
       "    }\n",
       "\n",
       "    .dataframe tbody tr th {\n",
       "        vertical-align: top;\n",
       "    }\n",
       "\n",
       "    .dataframe thead th {\n",
       "        text-align: right;\n",
       "    }\n",
       "</style>\n",
       "<table border=\"1\" class=\"dataframe\">\n",
       "  <thead>\n",
       "    <tr style=\"text-align: right;\">\n",
       "      <th></th>\n",
       "      <th>JoiningYear</th>\n",
       "      <th>PaymentTier</th>\n",
       "      <th>Education_Bachelors</th>\n",
       "      <th>Education_Masters</th>\n",
       "      <th>City_Bangalore</th>\n",
       "      <th>City_Pune</th>\n",
       "      <th>Gender_Male</th>\n",
       "    </tr>\n",
       "  </thead>\n",
       "  <tbody>\n",
       "    <tr>\n",
       "      <th>0</th>\n",
       "      <td>-0.575074</td>\n",
       "      <td>-3.038616</td>\n",
       "      <td>1.0</td>\n",
       "      <td>0.0</td>\n",
       "      <td>1.0</td>\n",
       "      <td>0.0</td>\n",
       "      <td>1.0</td>\n",
       "    </tr>\n",
       "    <tr>\n",
       "      <th>1</th>\n",
       "      <td>1.039529</td>\n",
       "      <td>0.531374</td>\n",
       "      <td>0.0</td>\n",
       "      <td>1.0</td>\n",
       "      <td>0.0</td>\n",
       "      <td>1.0</td>\n",
       "      <td>1.0</td>\n",
       "    </tr>\n",
       "    <tr>\n",
       "      <th>2</th>\n",
       "      <td>1.039529</td>\n",
       "      <td>0.531374</td>\n",
       "      <td>1.0</td>\n",
       "      <td>0.0</td>\n",
       "      <td>1.0</td>\n",
       "      <td>0.0</td>\n",
       "      <td>1.0</td>\n",
       "    </tr>\n",
       "    <tr>\n",
       "      <th>3</th>\n",
       "      <td>-0.036873</td>\n",
       "      <td>-1.253621</td>\n",
       "      <td>1.0</td>\n",
       "      <td>0.0</td>\n",
       "      <td>0.0</td>\n",
       "      <td>1.0</td>\n",
       "      <td>0.0</td>\n",
       "    </tr>\n",
       "    <tr>\n",
       "      <th>4</th>\n",
       "      <td>-0.036873</td>\n",
       "      <td>-3.038616</td>\n",
       "      <td>1.0</td>\n",
       "      <td>0.0</td>\n",
       "      <td>0.0</td>\n",
       "      <td>1.0</td>\n",
       "      <td>0.0</td>\n",
       "    </tr>\n",
       "    <tr>\n",
       "      <th>...</th>\n",
       "      <td>...</td>\n",
       "      <td>...</td>\n",
       "      <td>...</td>\n",
       "      <td>...</td>\n",
       "      <td>...</td>\n",
       "      <td>...</td>\n",
       "      <td>...</td>\n",
       "    </tr>\n",
       "    <tr>\n",
       "      <th>3717</th>\n",
       "      <td>-1.651476</td>\n",
       "      <td>0.531374</td>\n",
       "      <td>1.0</td>\n",
       "      <td>0.0</td>\n",
       "      <td>0.0</td>\n",
       "      <td>0.0</td>\n",
       "      <td>1.0</td>\n",
       "    </tr>\n",
       "    <tr>\n",
       "      <th>3718</th>\n",
       "      <td>1.039529</td>\n",
       "      <td>0.531374</td>\n",
       "      <td>1.0</td>\n",
       "      <td>0.0</td>\n",
       "      <td>1.0</td>\n",
       "      <td>0.0</td>\n",
       "      <td>1.0</td>\n",
       "    </tr>\n",
       "    <tr>\n",
       "      <th>3719</th>\n",
       "      <td>-0.575074</td>\n",
       "      <td>0.531374</td>\n",
       "      <td>1.0</td>\n",
       "      <td>0.0</td>\n",
       "      <td>0.0</td>\n",
       "      <td>1.0</td>\n",
       "      <td>0.0</td>\n",
       "    </tr>\n",
       "    <tr>\n",
       "      <th>3720</th>\n",
       "      <td>0.501328</td>\n",
       "      <td>0.531374</td>\n",
       "      <td>1.0</td>\n",
       "      <td>0.0</td>\n",
       "      <td>1.0</td>\n",
       "      <td>0.0</td>\n",
       "      <td>0.0</td>\n",
       "    </tr>\n",
       "    <tr>\n",
       "      <th>3721</th>\n",
       "      <td>0.501328</td>\n",
       "      <td>0.531374</td>\n",
       "      <td>1.0</td>\n",
       "      <td>0.0</td>\n",
       "      <td>1.0</td>\n",
       "      <td>0.0</td>\n",
       "      <td>1.0</td>\n",
       "    </tr>\n",
       "  </tbody>\n",
       "</table>\n",
       "<p>3722 rows × 7 columns</p>\n",
       "</div>"
      ],
      "text/plain": [
       "      JoiningYear  PaymentTier  Education_Bachelors  Education_Masters  \\\n",
       "0       -0.575074    -3.038616                  1.0                0.0   \n",
       "1        1.039529     0.531374                  0.0                1.0   \n",
       "2        1.039529     0.531374                  1.0                0.0   \n",
       "3       -0.036873    -1.253621                  1.0                0.0   \n",
       "4       -0.036873    -3.038616                  1.0                0.0   \n",
       "...           ...          ...                  ...                ...   \n",
       "3717    -1.651476     0.531374                  1.0                0.0   \n",
       "3718     1.039529     0.531374                  1.0                0.0   \n",
       "3719    -0.575074     0.531374                  1.0                0.0   \n",
       "3720     0.501328     0.531374                  1.0                0.0   \n",
       "3721     0.501328     0.531374                  1.0                0.0   \n",
       "\n",
       "      City_Bangalore  City_Pune  Gender_Male  \n",
       "0                1.0        0.0          1.0  \n",
       "1                0.0        1.0          1.0  \n",
       "2                1.0        0.0          1.0  \n",
       "3                0.0        1.0          0.0  \n",
       "4                0.0        1.0          0.0  \n",
       "...              ...        ...          ...  \n",
       "3717             0.0        0.0          1.0  \n",
       "3718             1.0        0.0          1.0  \n",
       "3719             0.0        1.0          0.0  \n",
       "3720             1.0        0.0          0.0  \n",
       "3721             1.0        0.0          1.0  \n",
       "\n",
       "[3722 rows x 7 columns]"
      ]
     },
     "execution_count": 24,
     "metadata": {},
     "output_type": "execute_result"
    }
   ],
   "source": [
    "X_train_removed=X_train\n",
    "columns_to_remove = ['Age','ExperienceInCurrentDomain','Education_PHD','City_New Delhi','EverBenched_Yes']\n",
    "X_train_removed=X_train_removed.drop(columns=columns_to_remove)\n",
    "X_train_removed"
   ]
  },
  {
   "cell_type": "code",
   "execution_count": 25,
   "id": "93a16918-7901-4fe4-b6d6-f09048aeb98c",
   "metadata": {},
   "outputs": [
    {
     "data": {
      "text/html": [
       "<div>\n",
       "<style scoped>\n",
       "    .dataframe tbody tr th:only-of-type {\n",
       "        vertical-align: middle;\n",
       "    }\n",
       "\n",
       "    .dataframe tbody tr th {\n",
       "        vertical-align: top;\n",
       "    }\n",
       "\n",
       "    .dataframe thead th {\n",
       "        text-align: right;\n",
       "    }\n",
       "</style>\n",
       "<table border=\"1\" class=\"dataframe\">\n",
       "  <thead>\n",
       "    <tr style=\"text-align: right;\">\n",
       "      <th></th>\n",
       "      <th>JoiningYear</th>\n",
       "      <th>PaymentTier</th>\n",
       "      <th>Education_Bachelors</th>\n",
       "      <th>Education_Masters</th>\n",
       "      <th>City_Bangalore</th>\n",
       "      <th>City_Pune</th>\n",
       "      <th>Gender_Male</th>\n",
       "    </tr>\n",
       "  </thead>\n",
       "  <tbody>\n",
       "    <tr>\n",
       "      <th>0</th>\n",
       "      <td>0.501328</td>\n",
       "      <td>0.531374</td>\n",
       "      <td>1.0</td>\n",
       "      <td>0.0</td>\n",
       "      <td>1.0</td>\n",
       "      <td>0.0</td>\n",
       "      <td>1.0</td>\n",
       "    </tr>\n",
       "    <tr>\n",
       "      <th>1</th>\n",
       "      <td>-0.575074</td>\n",
       "      <td>-3.038616</td>\n",
       "      <td>1.0</td>\n",
       "      <td>0.0</td>\n",
       "      <td>1.0</td>\n",
       "      <td>0.0</td>\n",
       "      <td>0.0</td>\n",
       "    </tr>\n",
       "    <tr>\n",
       "      <th>2</th>\n",
       "      <td>1.039529</td>\n",
       "      <td>-1.253621</td>\n",
       "      <td>0.0</td>\n",
       "      <td>1.0</td>\n",
       "      <td>0.0</td>\n",
       "      <td>0.0</td>\n",
       "      <td>0.0</td>\n",
       "    </tr>\n",
       "    <tr>\n",
       "      <th>3</th>\n",
       "      <td>-0.575074</td>\n",
       "      <td>-1.253621</td>\n",
       "      <td>1.0</td>\n",
       "      <td>0.0</td>\n",
       "      <td>0.0</td>\n",
       "      <td>1.0</td>\n",
       "      <td>0.0</td>\n",
       "    </tr>\n",
       "    <tr>\n",
       "      <th>4</th>\n",
       "      <td>0.501328</td>\n",
       "      <td>0.531374</td>\n",
       "      <td>1.0</td>\n",
       "      <td>0.0</td>\n",
       "      <td>1.0</td>\n",
       "      <td>0.0</td>\n",
       "      <td>1.0</td>\n",
       "    </tr>\n",
       "    <tr>\n",
       "      <th>...</th>\n",
       "      <td>...</td>\n",
       "      <td>...</td>\n",
       "      <td>...</td>\n",
       "      <td>...</td>\n",
       "      <td>...</td>\n",
       "      <td>...</td>\n",
       "      <td>...</td>\n",
       "    </tr>\n",
       "    <tr>\n",
       "      <th>926</th>\n",
       "      <td>-0.575074</td>\n",
       "      <td>0.531374</td>\n",
       "      <td>1.0</td>\n",
       "      <td>0.0</td>\n",
       "      <td>1.0</td>\n",
       "      <td>0.0</td>\n",
       "      <td>1.0</td>\n",
       "    </tr>\n",
       "    <tr>\n",
       "      <th>927</th>\n",
       "      <td>1.039529</td>\n",
       "      <td>0.531374</td>\n",
       "      <td>1.0</td>\n",
       "      <td>0.0</td>\n",
       "      <td>0.0</td>\n",
       "      <td>0.0</td>\n",
       "      <td>0.0</td>\n",
       "    </tr>\n",
       "    <tr>\n",
       "      <th>928</th>\n",
       "      <td>-0.036873</td>\n",
       "      <td>0.531374</td>\n",
       "      <td>1.0</td>\n",
       "      <td>0.0</td>\n",
       "      <td>0.0</td>\n",
       "      <td>1.0</td>\n",
       "      <td>1.0</td>\n",
       "    </tr>\n",
       "    <tr>\n",
       "      <th>929</th>\n",
       "      <td>-0.036873</td>\n",
       "      <td>0.531374</td>\n",
       "      <td>1.0</td>\n",
       "      <td>0.0</td>\n",
       "      <td>1.0</td>\n",
       "      <td>0.0</td>\n",
       "      <td>1.0</td>\n",
       "    </tr>\n",
       "    <tr>\n",
       "      <th>930</th>\n",
       "      <td>-0.036873</td>\n",
       "      <td>0.531374</td>\n",
       "      <td>0.0</td>\n",
       "      <td>0.0</td>\n",
       "      <td>0.0</td>\n",
       "      <td>0.0</td>\n",
       "      <td>1.0</td>\n",
       "    </tr>\n",
       "  </tbody>\n",
       "</table>\n",
       "<p>931 rows × 7 columns</p>\n",
       "</div>"
      ],
      "text/plain": [
       "     JoiningYear  PaymentTier  Education_Bachelors  Education_Masters  \\\n",
       "0       0.501328     0.531374                  1.0                0.0   \n",
       "1      -0.575074    -3.038616                  1.0                0.0   \n",
       "2       1.039529    -1.253621                  0.0                1.0   \n",
       "3      -0.575074    -1.253621                  1.0                0.0   \n",
       "4       0.501328     0.531374                  1.0                0.0   \n",
       "..           ...          ...                  ...                ...   \n",
       "926    -0.575074     0.531374                  1.0                0.0   \n",
       "927     1.039529     0.531374                  1.0                0.0   \n",
       "928    -0.036873     0.531374                  1.0                0.0   \n",
       "929    -0.036873     0.531374                  1.0                0.0   \n",
       "930    -0.036873     0.531374                  0.0                0.0   \n",
       "\n",
       "     City_Bangalore  City_Pune  Gender_Male  \n",
       "0               1.0        0.0          1.0  \n",
       "1               1.0        0.0          0.0  \n",
       "2               0.0        0.0          0.0  \n",
       "3               0.0        1.0          0.0  \n",
       "4               1.0        0.0          1.0  \n",
       "..              ...        ...          ...  \n",
       "926             1.0        0.0          1.0  \n",
       "927             0.0        0.0          0.0  \n",
       "928             0.0        1.0          1.0  \n",
       "929             1.0        0.0          1.0  \n",
       "930             0.0        0.0          1.0  \n",
       "\n",
       "[931 rows x 7 columns]"
      ]
     },
     "execution_count": 25,
     "metadata": {},
     "output_type": "execute_result"
    }
   ],
   "source": [
    "X_test_removed=X_test\n",
    "columns_to_remove = ['Age','ExperienceInCurrentDomain','Education_PHD','City_New Delhi','EverBenched_Yes']\n",
    "X_test_removed=X_test.drop(columns=columns_to_remove)\n",
    "X_test_removed"
   ]
  },
  {
   "cell_type": "markdown",
   "id": "1fa59fb4-1ccc-4627-b605-aa30bb143db4",
   "metadata": {},
   "source": [
    "# Model predicted by GridSearchCV (few features removed)"
   ]
  },
  {
   "cell_type": "code",
   "execution_count": 28,
   "id": "e0b7af20-f278-4cc1-b8b0-bc30eb601a9b",
   "metadata": {},
   "outputs": [],
   "source": [
    "param_grid1 = {\n",
    "    'kernel':['linear','poly','rbf'] ,\n",
    "    'C': [1,2,3,4,5], \n",
    "    'gamma':[0.1,0.3,0.5,0.7,1]\n",
    "}\n",
    "grid_search_removed = GridSearchCV(estimator=svm_model, param_grid=param_grid1, cv=5, scoring='accuracy')\n",
    "grid_search_removed.fit(X_train_removed, y_train)\n",
    "best_params_removed = grid_search_removed.best_params_\n",
    "best_estimator_removed = grid_search_removed.best_estimator_\n",
    "\n",
    "y_pred_grid_svm_removed = best_estimator_removed.predict(X_test_removed)"
   ]
  },
  {
   "cell_type": "code",
   "execution_count": 30,
   "id": "b1db71c2-6cef-4c65-9116-6087158a8e24",
   "metadata": {},
   "outputs": [
    {
     "name": "stdout",
     "output_type": "stream",
     "text": [
      "The best features are: {'C': 1, 'gamma': 0.3, 'kernel': 'rbf'}\n",
      "Accuracy: 0.8571428571428571\n",
      "Recall score: 0.640625\n",
      "AUC score: 0.8055825490998364\n",
      "Precision score: 0.9192825112107623\n",
      "Confusion Matrix: [[593  18]\n",
      " [115 205]]\n",
      "f1 score: 0.7667844522968198\n"
     ]
    }
   ],
   "source": [
    "print(f\"The best features are: {best_params_removed}\")\n",
    "accuracy_removed = accuracy_score(y_test, y_pred_grid_svm_removed)\n",
    "print(\"Accuracy:\", accuracy_removed)\n",
    "\n",
    "recall_removed = recall_score(y_test,y_pred_grid_svm_removed)\n",
    "print(\"Recall score:\", recall_removed)\n",
    "\n",
    "auc_score_removed= roc_auc_score(y_test,y_pred_grid_svm_removed)\n",
    "print(\"AUC score:\",auc_score_removed)\n",
    "\n",
    "precision_removed = precision_score(y_test,y_pred_grid_svm_removed)\n",
    "print(\"Precision score:\",precision_removed)\n",
    "\n",
    "confusion_mat_removed = confusion_matrix(y_test, y_pred_grid_svm_removed)\n",
    "print(\"Confusion Matrix:\", confusion_mat_removed)\n",
    "\n",
    "f1_removed =f1_score(y_test,y_pred_grid_svm_removed)\n",
    "print(\"f1 score:\",f1)"
   ]
  },
  {
   "cell_type": "markdown",
   "id": "97ba22a1-fc5a-42a8-8d94-38af9bdad1c3",
   "metadata": {},
   "source": [
    "# Final Model predicted by GridSearchCV (features removed)"
   ]
  },
  {
   "cell_type": "code",
   "execution_count": 50,
   "id": "e5e9d149-1252-4095-b787-f2bbb967769b",
   "metadata": {},
   "outputs": [],
   "source": [
    "param_grid_final = {'kernel':['rbf'],'C':[1],'gamma':[0.3] }\n",
    "grid_search_final = GridSearchCV(estimator=svm_model, param_grid=param_grid_final, cv=5, scoring='accuracy')\n",
    "grid_search_final.fit(X_train_removed, y_train)\n",
    "best_params_final = grid_search_final.best_params_\n",
    "best_estimator_final = grid_search_final.best_estimator_\n",
    "\n",
    "y_pred_grid_svm_final = best_estimator_final.predict(X_test_removed)"
   ]
  },
  {
   "cell_type": "code",
   "execution_count": 74,
   "id": "d4dbd7aa-52b0-45ac-bd03-657d013ec127",
   "metadata": {},
   "outputs": [
    {
     "name": "stdout",
     "output_type": "stream",
     "text": [
      "Accuracy: 0.8571428571428571\n",
      "Recall score: 0.640625\n",
      "AUC score: 0.8055825490998364\n",
      "Precision score: 0.9192825112107623\n",
      "Confusion Matrix: [[593  18]\n",
      " [115 205]]\n",
      "f1 score: 0.7550644567219152\n"
     ]
    }
   ],
   "source": [
    "accuracy_final = accuracy_score(y_test, y_pred_grid_svm_final )\n",
    "print(\"Accuracy:\", accuracy_final)\n",
    "\n",
    "recall_final = recall_score(y_test,y_pred_grid_svm_final)\n",
    "print(\"Recall score:\", recall_final)\n",
    "\n",
    "auc_score_final= roc_auc_score(y_test,y_pred_grid_svm_final)\n",
    "print(\"AUC score:\",auc_score_final)\n",
    "\n",
    "precision_final = precision_score(y_test,y_pred_grid_svm_final)\n",
    "print(\"Precision score:\",precision_final)\n",
    "\n",
    "confusion_mat_final = confusion_matrix(y_test, y_pred_grid_svm_final)\n",
    "print(\"Confusion Matrix:\", confusion_mat_final)\n",
    "\n",
    "f1_final=f1_score(y_test,y_pred_grid_svm_final)\n",
    "print(\"f1 score:\",f1_final)"
   ]
  }
 ],
 "metadata": {
  "kernelspec": {
   "display_name": "Python 3 (ipykernel)",
   "language": "python",
   "name": "python3"
  },
  "language_info": {
   "codemirror_mode": {
    "name": "ipython",
    "version": 3
   },
   "file_extension": ".py",
   "mimetype": "text/x-python",
   "name": "python",
   "nbconvert_exporter": "python",
   "pygments_lexer": "ipython3",
   "version": "3.11.5"
  }
 },
 "nbformat": 4,
 "nbformat_minor": 5
}
